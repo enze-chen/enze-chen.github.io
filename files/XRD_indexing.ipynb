{
 "cells": [
  {
   "cell_type": "markdown",
   "metadata": {},
   "source": [
    "# X-ray diffraction (XRD) indexing calculations\n",
    "\n",
    "*Author: Enze Chen (University of California, Berkeley)*\n",
    "\n",
    "This Jupyter notebook is meant expose MSE students with little to no Python experience to a programmatic way of indexing a XRD spectra. It walks through the process step-by-step, so I apologize if it appears quite long. I tried to include ample explanations for the scientific computing techniques and how they relate to math and MSE concepts they might otherwise be more familiar with.\n",
    "\n",
    "## Usage\n",
    "For pedagogical reasons, there are a few places for the students to fill in their own code in order to make the notebook fully functional. These are delineated with the dotted lines as follows, and you should **only change what's inside**. You don't have to edit the text or code anywhere else.\n",
    "```python\n",
    "# ---------------------- #\n",
    "# YOUR CODE HERE\n",
    "\n",
    "# ---------------------- #\n",
    "```\n",
    "To execute each cell of the notebook and automatically advance to the next cell, press `Shift+Enter`. If you edit the code in a cell, just press `Shift+Enter` to run it again. You have to execute **all** the code cells in this notebook from top to bottom (so don't skip around). A number `[#]` will appear to the left of the code cell once it's done executing."
   ]
  },
  {
   "cell_type": "markdown",
   "metadata": {},
   "source": [
    "## But why should I learn this?\n",
    "Good question! These were my motivations in creating this notebook:   \n",
    "* Computational tools are becoming **increasingly pervasive** in all sub-fields of MSE.\n",
    "    * In characterization, experimental data from high-energy physics and 4D-STEM are being generated at the rate of hundreds of GBs per second. The **bottleneck to scientific discovery** is now in processing and analyzing this data.\n",
    "* Both academia and industry are beginning to view programming as a **core competency**, even if you are \"not a programmer.\"\n",
    "* Indexing powder XRD patterns is a **routine procedure with several repetitive tasks**, making it a great candidate for programmatic solutions. Write once, run anytime.\n",
    "    * This also makes powder XRD a **great teaching example** for computationalists as well as experimentalists.\n",
    "* All the buzz around computer science can make these topics appear overwhelming and exclusive. Hopefully this notebook **lowers that barrier** by a teeny amount.\n",
    "* The choice of Python (over MATLAB, for example) is because it's **open source**, beginner-friendly, easily integrated with [Jupyter](https://jupyter.org/), and **[insanely popular](https://149351115.v2.pressablecdn.com/wp-content/uploads/2017/09/growth_major_languages-1-1400x1200.png)**.\n",
    "    * If this notebook gets you excited, there are plenty of great resources and courses out there for learning Python. \n",
    "    \n",
    "\n",
    "## Acknowledgements\n",
    "I thank my Stanford undergraduate instructors [Prof. Renee Sher](https://www.wesleyan.edu/academics/faculty/msher/profile.html) and [Dr. Arturas Vailionis](https://profiles.stanford.edu/arturas-vailionis) for teaching me XRD. I also thank my advisor [Prof. Mark Asta](https://mse.berkeley.edu/people_new/asta/) for his unwavering encouragement for my education-related pursuits. You can find an interactive version of this notebook on [Google Colaboratory](https://colab.research.google.com/github/enze-chen/enze-chen.github.io/blob/master/files/XRD_indexing.ipynb)."
   ]
  },
  {
   "cell_type": "markdown",
   "metadata": {},
   "source": [
    "## Important equations\n",
    "The most important equation is **Bragg's law**, given by \n",
    "\n",
    "$$ n\\lambda = 2d \\sin(\\theta) \\tag{1} $$\n",
    "\n",
    "where $n$ is the order (typically $1$), $\\lambda$ is the wavelength, $d$ is the interplanar spacing, and $\\theta$ is the Bragg angle. \n",
    "\n",
    "At the very end, if you're interested in finding the lattice constant to identify the element, you will have to relate the lattice constant to the interplanar spacing. The formula depends on the crystal system, and for cubic systems it is given by\n",
    "\n",
    "$$ d = \\frac{a}{\\sqrt{h^2 + k^2 + l^2}} \\tag{2} $$\n",
    "\n",
    "where $a$ is the lattice constant and $h,k,l$ are the Miller indices for the plane.\n",
    "\n",
    "For more information, please reference [Elements of X-Ray Diffraction (3rd) - Cullity and Stock](https://www.pearson.com/us/higher-education/program/Cullity-Elements-of-X-Ray-Diffraction-3rd-Edition/PGM113710.html)."
   ]
  },
  {
   "cell_type": "markdown",
   "metadata": {},
   "source": [
    "## Python library imports\n",
    "These are all the required Python libraries. Like in many other languages (Java, C++, Julia, R), you have to import any special libraries that you want to use in Python. \n",
    "\n",
    "[NumPy](https://numpy.org/) is a popular scientific computing library in Python.\n",
    "\n",
    "[pandas](https://pandas.pydata.org/) is a popular Python library for working with tabular data. Parts of it are built with NumPy. It's pronounced exactly how you think it's pronounced but unfortunately has no relationship to the cute bear.\n",
    "\n",
    "**TODO**: You have to execute the following code cell with `Shift+Enter` before any of the others."
   ]
  },
  {
   "cell_type": "code",
   "execution_count": null,
   "metadata": {},
   "outputs": [],
   "source": [
    "# In-line comments in Python start with pound signs\n",
    "# We give these libraries aliases to spare our fingers when we call them later\n",
    "# The abbrievations shown here are standard in the scientific computing community\n",
    "import pandas as pd\n",
    "import numpy as np"
   ]
  },
  {
   "cell_type": "markdown",
   "metadata": {},
   "source": [
    "## Index the peaks and identify the structure from powder XRD data\n",
    "Typically in a XRD experiment, you will measure a spectra with peaks and corresponding $2\\theta$ values. Along with the X-ray wavelength $\\lambda$, these are all you have (and need) to index the peaks and identify the crystal structure, possibly even the material (e.g. if it's a single element).\n",
    "\n",
    "### 1. Inputs / experimental data\n",
    "**TODO**: Start by typing in your known values:\n",
    "* Wavelength: A **float** (decimal) in nanometers, most likely `0.154` corresponding to $\\text{Cu-K}\\alpha$.\n",
    "* Angles: Values are $2\\theta$ in degrees. The angles should be stored in a **list** (array) in the form \n",
    "```python\n",
    "angles = [1.23, 4.56, 7.89]  \n",
    "```\n",
    "for however many $2\\theta$ values you've measured. Don't forget to execute the code cell (`Shift+Enter`) when you're done."
   ]
  },
  {
   "cell_type": "code",
   "execution_count": null,
   "metadata": {},
   "outputs": [],
   "source": [
    "# ---------------------- #\n",
    "# YOUR CODE HERE\n",
    "wavelength = \n",
    "angles = \n",
    "# ---------------------- #"
   ]
  },
  {
   "cell_type": "markdown",
   "metadata": {},
   "source": [
    "### 2. Creating our first DataFrame\n",
    "The way pandas organizes tabular data is by storing it inside [`DataFrame`](https://pandas.pydata.org/pandas-docs/stable/reference/api/pandas.DataFrame.html) objects. We can create a DataFrame object using its constructor, which takes many possible forms. The constructor used here takes in a **dictionary** made up of several `key:value` pairs as follows:\n",
    "```python\n",
    "pd.DataFrame({name_col1:data_col1, name_col2:data_col2,})\n",
    "```\n",
    "where `name_colX` is the name of the column and `data_colX` are the values in that column. We save this DataFrame as the `df` variable. \n",
    "\n",
    "We want to have a column for the X-ray wavelength and a second column for the $2\\theta$ angles. The following code has a column for the wavelength already specified, where the name of the column is `'Wavelength'` and the values are the `wavelength` values from the previous cell.\n",
    "\n",
    "**TODO**: Add another column in the constructor for the angles. Let's name the new column `'2Theta'` and map it to our `angles` variable that we created.\n",
    "\n",
    "A handy feature of Jupyter notebooks is that if you write a variable on the **last line** of any code block, that variable will automatically be displayed in a nice format. This is very helpful for debugging and visualizations. No need for `print(df)`.\n",
    "* *Note*: This is only for Jupyter notebooks and will crash your Python code if you try it elsewhere!"
   ]
  },
  {
   "cell_type": "code",
   "execution_count": null,
   "metadata": {},
   "outputs": [],
   "source": [
    "# ---------------------- #\n",
    "# YOUR CODE HERE\n",
    "df = pd.DataFrame({'Wavelength':wavelength, })\n",
    "# ---------------------- #\n",
    "df  # you should see two columns with your data!"
   ]
  },
  {
   "cell_type": "markdown",
   "metadata": {},
   "source": [
    "If you're astute, you'll notice that pandas automatically duplicated the wavelength (a scalar) for each angle (stored in an array). This is called [array broadcasting](https://numpy.org/doc/stable/user/theory.broadcasting.html#array-broadcasting-in-numpy) in NumPy and generally must be exercised with extreme caution!"
   ]
  },
  {
   "cell_type": "markdown",
   "metadata": {},
   "source": [
    "### 3. Numerical calculations\n",
    "Note that if we assume $n=1$ in Bragg's law, then we have three unknowns. In our case, we know the wavelength and angle, so we can find the interplanar spacing as follows\n",
    "\n",
    "$$ d = \\frac{\\lambda}{2 \\sin (\\theta)} \\tag{3} $$\n",
    "\n",
    "We will try to do this in a very principled fashion. \n",
    "\n",
    "#### 3.1 Theta\n",
    "First, we need to get the $\\theta$ values. We can do this by creating a new column in the DataFrame whose entries are computed by dividing the existing column of $2\\theta$ values by 2. The syntax for selecting a column in the DataFrame is by using its name as follows:\n",
    "```python\n",
    "df['2Theta']\n",
    "```\n",
    "To perform division, we can type `/ 2` after the column and store the result into a new `'Theta'` column in the DataFrame. \n",
    "\n",
    "**TODO**: Finish the right-hand side of the code below."
   ]
  },
  {
   "cell_type": "code",
   "execution_count": null,
   "metadata": {},
   "outputs": [],
   "source": [
    "# ---------------------- #\n",
    "# YOUR CODE HERE\n",
    "df['Theta'] = \n",
    "# ---------------------- #\n",
    "df   # you should now have a third column called 'Theta' that's been added"
   ]
  },
  {
   "cell_type": "markdown",
   "metadata": {},
   "source": [
    "#### 3.2 Sine\n",
    "Next, we'll compute the sine of the angle using a function from the NumPy library. Specifically, it is the `np.sin()` function, whose argument inside the parentheses **must be in radians**. If you apply the function on an array of values, it will know to evaluate the sine of each element individually. Fortunately, there is also a `np.radians()` function that will convert an array from degrees to radians for us. \n",
    "\n",
    "**TODO**: Write one line of code to add a column named `'Sine'` to your DataFrame. Your code should resembles the following, where you'll have to fill in the blank with the appropriate column from your existing DataFrame.\n",
    "```python\n",
    "df['Sine'] = np.sin(np.radians(______))\n",
    "```"
   ]
  },
  {
   "cell_type": "code",
   "execution_count": null,
   "metadata": {},
   "outputs": [],
   "source": [
    "# ---------------------- #\n",
    "# YOUR CODE HERE\n",
    "\n",
    "# ---------------------- #\n",
    "df   # you should now have a fourth column called 'Sine'"
   ]
  },
  {
   "cell_type": "markdown",
   "metadata": {},
   "source": [
    "#### 3.3 Interplanar spacing\n",
    "Now you have all the pieces in place for calculating $d$. What's dope about pandas is that you can perform element-wise division of two columns by use of the division operator, `/`. \n",
    "\n",
    "**TODO**: Create a new column `df['Distance']` that does exactly what **Equation (3)** says. `df['Wavelength']` and `df['Sine']` should both appear on the right hand side. Don't forget to include parentheses when you multiply the denominator by 2!"
   ]
  },
  {
   "cell_type": "code",
   "execution_count": null,
   "metadata": {},
   "outputs": [],
   "source": [
    "# ---------------------- #\n",
    "# YOUR CODE HERE\n",
    "\n",
    "# ---------------------- #\n",
    "df   # you should now have a fifth column called 'Distance'"
   ]
  },
  {
   "cell_type": "markdown",
   "metadata": {},
   "source": [
    "#### 3.4 Take the ratio\n",
    "At this point, you know to take the ratio between the first distance and each distance measured. However, I think there's a small \"hack\" to this. If you do it naively, you'll get numbers like `1.000`, `1.414`, `1.732`, and the like. Unless you know your square root approximations, this can be tricky to decipher. I prefer to **square** the distances first, and then take the ratio. I've done the first part below and stored the squared distances into a sixth column. \n",
    "\n",
    "**TODO**: Now you have to create a new column called `'Ratio'` whose values are *the first element* of `'Distance^2'` divided by the entire column `'Distance^2'`. The pandas syntax to access the first element in a column is\n",
    "```python\n",
    "df['Distance^2'][0]\n",
    "```\n",
    "The resulting column should have integral values or multiples of $\\frac{1}{3}$."
   ]
  },
  {
   "cell_type": "code",
   "execution_count": null,
   "metadata": {},
   "outputs": [],
   "source": [
    "df['Distance^2'] = df['Distance']**2   # Creates a sixth column\n",
    "# ---------------------- #\n",
    "# YOUR CODE HERE\n",
    "\n",
    "# ---------------------- #\n",
    "df   # you should now have a seventh column called 'Ratio'"
   ]
  },
  {
   "cell_type": "markdown",
   "metadata": {},
   "source": [
    "#### 3.5 Figure out the crystal structure and index the peaks\n",
    "OK! At this point, the ratios should be enough for you to deduce which cubic crystal structure you have on your hands. This will allow you to index the peaks accordingly. You can probably do this by hand. \n",
    "\n",
    "----------------------------------------\n",
    "\n",
    "If you want to try it programmatically, you can read on. The following cells are completed for you, so you just have to run them, assuming you used the same variable names I suggested. There are probably smarter programmatic ways to do this, but I felt hacky, so we're going to create the following variables to store some constants."
   ]
  },
  {
   "cell_type": "code",
   "execution_count": null,
   "metadata": {},
   "outputs": [],
   "source": [
    "fcc_ratios = np.array([3/3, 4/3, 8/3, 11/3, 12/3, 16/3, 19/3, 20/3])\n",
    "bcc_ratios = np.array([1, 2, 3, 4, 5, 6, 7, 8, 9, 10])\n",
    "sc_ratios = np.array([1, 2, 3, 4, 5, 6, 8, 9, 10])\n",
    "dc_ratios = np.array([3/3, 8/3, 11/3, 16/3, 19/3, 24/3])\n",
    "s_to_hkl = {1:'(100)', 2:'(110)', 3:'(111)', 4:'(200)', 5:'(210)', 6:'(211)', \n",
    "            8:'(220)', 9:'(221),(300)', 10:'(310)', 11:'(311)', 12:'(222)', 13:'(320)', 14:'(321)',\n",
    "            16:'(400)', 17:'(410),(322)', 18:'(411),(330)', 19:'(331)', 20:'(420)'}"
   ]
  },
  {
   "cell_type": "markdown",
   "metadata": {},
   "source": [
    "We'll use the theoretical `ratios` for comparison by finding the difference with our computed ratios and taking the norm of the resulting array. For each structure, we use the `s_to_hkl` dictionary to add the planes to our DataFrame, where \n",
    "\n",
    "$$ s \\stackrel{\\text{def}}{=} h^2 + k^2 + l^2 $$\n",
    "\n",
    "is what Cullity calls the **quadratic form** of the Miller index. Based on the crystal system, we know exactly what factor to multiply our `df['Ratio']` by, namely the $s$ of the first diffraction plane. (Why?)"
   ]
  },
  {
   "cell_type": "code",
   "execution_count": null,
   "metadata": {},
   "outputs": [],
   "source": [
    "n = len(angles)   # How many angles did we actually collect?\n",
    "                  # Avoids out-of-bounds errors when making comparison.\n",
    "tol = 1e-2        # ALWAYS compare with a numerical tolerance; never == 0\n",
    "\n",
    "err_fcc = np.linalg.norm(df['Ratio'] - fcc_ratios[:n])\n",
    "err_bcc = np.linalg.norm(df['Ratio'] - bcc_ratios[:n])\n",
    "err_sc  = np.linalg.norm(df['Ratio'] - sc_ratios[:n])\n",
    "err_dc  = np.linalg.norm(df['Ratio'] - dc_ratios[:n])\n",
    "\n",
    "if err_fcc < tol:\n",
    "    print('Structure is likely face-centered cubic.')\n",
    "    df['s'] = round(df['Ratio'] * 3)   # we use round() to get the nearest integer\n",
    "    df['Plane'] = [s_to_hkl[s] for s in df['s']]   # the RHS is called a list comprehension\n",
    "elif err_bcc < tol:\n",
    "    print('Structure is likely body-centered cubic.')\n",
    "    df['s'] = round(df['Ratio'] * 2)\n",
    "    df['Plane'] = [s_to_hkl[s] for s in df['s']]\n",
    "elif err_sc < tol:\n",
    "    print('Structure is likely simple cubic.')\n",
    "    df['s'] = round(df['Ratio'])\n",
    "    df['Plane'] = [s_to_hkl[s] for s in df['s']]\n",
    "elif err_dc < tol:\n",
    "    print('Structure is likely diamond cubic.')\n",
    "    df['s'] = round(df['Ratio'] * 3)\n",
    "    df['Plane'] = [s_to_hkl[s] for s in df['s']]\n",
    "else:\n",
    "    print('Structure unclear.',\n",
    "          'Maybe a non-cubic crystal system or a multi-component basis.')"
   ]
  },
  {
   "cell_type": "markdown",
   "metadata": {},
   "source": [
    "And just for good measure, let's show our final DataFrame with all of our calculations."
   ]
  },
  {
   "cell_type": "code",
   "execution_count": null,
   "metadata": {},
   "outputs": [],
   "source": [
    "df  # ta-da!"
   ]
  },
  {
   "cell_type": "markdown",
   "metadata": {},
   "source": [
    "## Conclusion\n",
    "Congratulations on making it to the end! This short notebook doesn't do NumPy or pandas justice, but hopefully it gives you a sneak peek at the power of scientific computing and the impact it can have in materials characterization and MSE more broadly. Or maybe the only utility for you is helping you complete your homework assignments, and that's fine too. If you have any remaining questions or ideas for this and other modules, please don't hesitate to reach out."
   ]
  },
  {
   "cell_type": "markdown",
   "metadata": {},
   "source": [
    "## Extensions\n",
    "\n",
    "### Lattice constants\n",
    "If you want elemental identification, you will need to calculate the lattice constant. This should be fairly simple since you can pick any of the peaks from your final results and just apply **Equation (2)** from above. This only takes a couple seconds on any calculator. But if you do it with code for all the peak calculations, you can then run some statistics to quantify the variability.\n",
    "\n",
    "### TEM diffraction\n",
    "How might you modify the code to index a ring pattern from polycrystalline diffraction? What about a spot pattern for single crystals?\n",
    "\n",
    "### Peak fitting/identification\n",
    "Technically, the output of a powder XRD experiment is a spectra, not a set of angles. It's stored as a column of $2\\theta$ values followed by a column of $\\text{Intensity}$ values. How might code help you extract the positions of the peaks?"
   ]
  }
 ],
 "metadata": {
  "kernelspec": {
   "display_name": "Python 3",
   "language": "python",
   "name": "python3"
  },
  "language_info": {
   "codemirror_mode": {
    "name": "ipython",
    "version": 3
   },
   "file_extension": ".py",
   "mimetype": "text/x-python",
   "name": "python",
   "nbconvert_exporter": "python",
   "pygments_lexer": "ipython3",
   "version": "3.7.3"
  }
 },
 "nbformat": 4,
 "nbformat_minor": 4
}
