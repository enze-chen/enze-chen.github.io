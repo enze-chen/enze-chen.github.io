{
 "cells": [
  {
   "cell_type": "markdown",
   "metadata": {
    "colab_type": "text",
    "id": "4HJO-MoAf1Eb"
   },
   "source": [
    "# X-ray diffraction (XRD) interactive plot\n",
    "\n",
    "*Author: Enze Chen, PhD student at the University of California, Berkeley*\n",
    "\n",
    "This is an interactive notebook for playing around with some experimental parameters ($a$, $\\lambda$, $T$, etc.) and observing the effect on the resulting XRD spectra. I find XRD to be a particularly beautiful subject and I couldn't find any similar visualizations online. I hope this interactive demo will help you learn the general _qualitative trends_ associated with powder XRD spectra. Please don't hesitate to reach out if you have questions or ideas to contribute.\n",
    "\n",
    "## Acknowledgements\n",
    "\n",
    "I would like to thank Prof. Andrew Minor for teaching MATSCI 204: Materials Characterization and my advisor Prof. Mark Asta for his unwavering encouragement. Interactivity is enabled with the [`ipywidgets`](https://ipywidgets.readthedocs.io/en/stable/) library."
   ]
  },
  {
   "cell_type": "markdown",
   "metadata": {
    "colab_type": "text",
    "id": "WHTNCgg3f1Ec"
   },
   "source": [
    "## Important equations\n",
    "\n",
    "The most important equation is Bragg's law, given by \n",
    "\n",
    "$$n\\lambda = 2d \\sin(\\theta)$$\n",
    "\n",
    "where $n$ is the order (typically $1$), $\\lambda$ is the wavelength, $d$ is the interplanar spacing, and $\\theta$ is the Bragg angle. In creating the interactive widget, we will need to solve for $\\theta$ as follows:\n",
    "\n",
    "$$ \\lambda = 2d \\sin(\\theta) \\longrightarrow \\theta = \\sin^{-1} \\left( \\frac{\\lambda}{2d} \\right), \\quad d = \\frac{a}{\\sqrt{h^2 + k^2 + l^2}} $$\n",
    "\n",
    "where $h,k,l$ are the miller indices of the diffracting plane and $a$ is the lattice constant. \n",
    "\n",
    "Another important equation is the intensity, given by\n",
    "\n",
    "$$ I = |F|^2 \\times P \\times m \\times L \\times A \\times T $$\n",
    "\n",
    "where\n",
    "* $F$ is the Structure factor.\n",
    "* $P$ is the Polarization factor.\n",
    "* $m$ is the Multiplicity factor.\n",
    "* $L$ is the Lorentz factor.\n",
    "* $A$ is the Absorption factor.\n",
    "* $T$ is the Temperature factor.\n",
    "\n",
    "Furthermore, size effects can be included through the Scherrer equation, given by \n",
    "\n",
    "$$ t = \\frac{K\\lambda}{\\beta \\cos(\\theta)} $$ \n",
    "\n",
    "where $t$ is the thickness, $K \\sim 0.9$, and $\\beta$ is the FWHM of the peak in radians.\n",
    "\n",
    "For more information, please reference [Elements of X-Ray Diffraction (3rd) - Cullity and Stock](https://www.pearson.com/us/higher-education/program/Cullity-Elements-of-X-Ray-Diffraction-3rd-Edition/PGM113710.html)."
   ]
  },
  {
   "cell_type": "markdown",
   "metadata": {
    "colab_type": "text",
    "id": "yhTjHEDqf1Ee"
   },
   "source": [
    "### Assumptions I've taken great liberties with\n",
    "\n",
    "* For the structure factor, I greatly oversimplified the construction of the atomic scattering factor and selected some numbers that more or less came from the data for iron since it has both BCC and FCC structures.\n",
    "* I also combined part of the Temperature factor into the structure factor.\n",
    "* I combined the Lorentz and Polarization factors, as is commonly done in the literature.\n",
    "* Like any good computationalist (jk), I threw out most constant factors.\n",
    "* I ignored the absorption factor since it is more or less independent of $\\theta$.\n",
    "* I used a $\\sqrt[3]{\\theta}$ term to approximate the thermal background's general shape. I don't know the actual dependence, if there is one.\n",
    "* It only models FCC and BCC structures with single-atom bases. I think it's enough to get the trends, as calculations for specific materials can be found online (e.g. at [The Materials Project](https://materialsproject.org/)).\n",
    "* I used a Gaussian distribution to model each peak so that I could capture crystallite size effects using the Scherrer equation. Peaks in general are not Gaussian.\n",
    "\n",
    "### Known issues\n",
    "\n",
    "* It doesn't have great safeguards against numerical errors, such as invalid `arcsin` arguments (e.g. if $\\lambda$ is large and $d$ is small). Please be gentle. ❤\n",
    "* There's a weird rendering error where for large intensities the upper limit (`1e6` for me) appears on the y-axis. **shrug**"
   ]
  },
  {
   "cell_type": "markdown",
   "metadata": {
    "colab_type": "text",
    "id": "_VrVrJaWf1Ef"
   },
   "source": [
    "## Python package imports\n",
    "\n",
    "These are all the required Python packages."
   ]
  },
  {
   "cell_type": "code",
   "execution_count": 1,
   "metadata": {
    "colab": {},
    "colab_type": "code",
    "id": "qs0gLWkuf1Eh"
   },
   "outputs": [],
   "source": [
    "# General libraries\n",
    "import itertools\n",
    "\n",
    "# Scientific computing libraries\n",
    "import pandas as pd\n",
    "pd.set_option('display.width', 1000)\n",
    "pd.set_option('display.max_colwidth', 500)\n",
    "import numpy as np\n",
    "import scipy.stats as stats\n",
    "import matplotlib.pyplot as plt\n",
    "%matplotlib inline\n",
    "\n",
    "# Interactivity libraries\n",
    "from ipywidgets import interact_manual, fixed, \\\n",
    "                       IntSlider, FloatSlider, FloatLogSlider, RadioButtons, \\\n",
    "                       Button, Layout"
   ]
  },
  {
   "cell_type": "markdown",
   "metadata": {
    "colab_type": "text",
    "id": "DRQUJq2of1Ev"
   },
   "source": [
    "## Widget function\n",
    "\n",
    "This function handles all the calculations."
   ]
  },
  {
   "cell_type": "code",
   "execution_count": 2,
   "metadata": {
    "colab": {},
    "colab_type": "code",
    "id": "U9fk_WEEf1Ew"
   },
   "outputs": [],
   "source": [
    "def plot_XRD(a, wavelength, cell_type, thickness, T=0, K=0.94):\n",
    "    \n",
    "    # Crystallographic planes\n",
    "    planes = [[1,0,0], [1,1,0], [1,1,1], [2,0,0], [2,1,0], [2,1,1], [2,2,0],\\\n",
    "              [2,2,1], [3,0,0], [3,1,0], [3,1,1], [2,2,2], [3,2,0], [3,2,1]]\n",
    "    planes_str = ['(100)', '(110)', '(111)', '(200)', '(210)', '(211)', '(220)',\\\n",
    "                  '(221)', '(300)', '(310)', '(311)', '(222)', '(320)', '(321)']\n",
    "\n",
    "    # Set the basis\n",
    "    basis = []\n",
    "    if cell_type is 'FCC':\n",
    "        basis = np.array([[0,0,0], [0.5,0.5,0], [0.5,0,0.5], [0,0.5,0.5]])\n",
    "    elif cell_type is 'BCC':\n",
    "        basis = np.array([[0,0,0], [0.5,0.5,0.5]])\n",
    "    else:\n",
    "        raise ValueError('Cell type not yet supported.')\n",
    "\n",
    "    # Convert planes to theta values (see equation above)\n",
    "    a += 1e-5 * T  # thermal expansion estimate\n",
    "    s_vals = np.array([np.linalg.norm(p) for p in planes])\n",
    "    theta = np.arcsin(np.divide(wavelength/2, np.divide(a, s_vals)))\n",
    "    two_theta = 2 * np.degrees(theta)\n",
    "\n",
    "    # Scherrer equation calculations\n",
    "    beta = np.degrees(K * wavelength / thickness * np.divide(1, np.cos(theta)))\n",
    "    sigma = beta / 2.355  # proportionality for Gaussian distribution\n",
    "\n",
    "    # Structure-Temperature factor. Must... resist... for loops...\n",
    "    s = np.sin(theta) / wavelength\n",
    "    f = 26 - 41.8 * 7 * np.multiply(s**2, np.exp(-(s)**2))\n",
    "    F = np.multiply(f, np.sum(np.exp(2 * np.pi * 1j * \\\n",
    "                                     np.dot(np.array(planes), basis.T)), axis=1))\n",
    "\n",
    "    # Multiplicity factor\n",
    "    mult = [2**np.count_nonzero(p) * \\\n",
    "            sum(1 for _ in set(itertools.permutations(p))) for p in planes]\n",
    "\n",
    "    # Lorentz-Polarization factor\n",
    "    P = np.divide(1 + np.cos(2 * theta)**2, np.multiply(np.sin(theta)**2, np.cos(theta)))\n",
    "\n",
    "    # Final intensity (numpy hacks)\n",
    "    factors = [np.absolute(F)**2, mult, P]\n",
    "    I = np.prod(np.vstack(factors), axis=0)\n",
    "    \n",
    "    # Plotting\n",
    "    plt.rcParams.update({'figure.figsize':(10,5), 'font.size':22})\n",
    "    xmin, xmax = (20, 160)\n",
    "    fig, ax = plt.subplots()\n",
    "\n",
    "    # Create x-axis points\n",
    "    x = np.linspace(xmin, xmax, int(5e4))\n",
    "    thermal_diffuse = 1e2 * T * np.cbrt(x)  # THIS FUNCTIONAL DEPENDENCE IS NOT REAL!!!\n",
    "                                            # Chosen just to get general shape of background\n",
    "    \n",
    "    # Save all the curves, then take a max envelope\n",
    "    all_curves = []\n",
    "    for i in range(len(sigma)):\n",
    "        y = stats.norm.pdf(x, two_theta[i], sigma[i])\n",
    "        normed_curve = y / max(y) * I[i]\n",
    "        # Don't include the curves that aren't selected by the Structure factor\n",
    "        if max(normed_curve) > 1e1:\n",
    "            max_ind = normed_curve.argmax()\n",
    "            ax.annotate(s=planes_str[i], \\\n",
    "                        xy=(x[max_ind], normed_curve[max_ind] + thermal_diffuse[max_ind]))\n",
    "            all_curves.append(normed_curve)\n",
    "    final_curve = np.max(all_curves, axis=0) + thermal_diffuse\n",
    "    plt.plot(x, final_curve, c='C0', lw=4)\n",
    "\n",
    "    # Some fine-tuned settings for visual appeal\n",
    "    for side in ['top', 'right']:\n",
    "        ax.spines[side].set_visible(False)\n",
    "    for side in ['left', 'bottom']:\n",
    "        ax.spines[side].set_linewidth(2)\n",
    "    ax.set_xlim(xmin, xmax)\n",
    "    ax.set_ylim(0, 1.05*ax.get_ylim()[1])\n",
    "    ax.tick_params(left=False, labelleft=False, direction='in', length=10, width=2)\n",
    "    ax.set_xlabel(r'$2\\theta\\ (^{\\circ})$')\n",
    "    ax.set_ylabel('Intensity (a.u.)')\n",
    "    plt.show()"
   ]
  },
  {
   "cell_type": "markdown",
   "metadata": {
    "colab_type": "text",
    "id": "qe3NxRFMf1E2"
   },
   "source": [
    "I've created each slider individually for readability and customization."
   ]
  },
  {
   "cell_type": "code",
   "execution_count": 3,
   "metadata": {
    "colab": {},
    "colab_type": "code",
    "id": "BWkajFgNf1E3"
   },
   "outputs": [],
   "source": [
    "b = Button(description='A button', layout=Layout(width='400px', height='40px'))\n",
    "\n",
    "a_widget = FloatSlider(value=0.352, min=0.25, max=0.45, step=0.001, description='Lattice constant (nm)', \\\n",
    "                       readout_format='.3f', style={'description_width':'150px'}, layout=b.layout)\n",
    "\n",
    "w_widget = FloatSlider(value=0.154, min=0.070, max=0.200, step=0.001, description='X-ray wavelength (nm)',\\\n",
    "                       readout_format='.3f', style={'description_width':'150px'}, layout=b.layout)\n",
    "\n",
    "c_widget = RadioButtons(options=['FCC', 'BCC'], description='Crystal structure',\\\n",
    "                        style={'description_width':'150px'}, layout=b.layout)\n",
    "\n",
    "t_widget = FloatLogSlider(value=10, base=10, min=0, max=3, step=0.1, description='Crystallite size (nm)',\\\n",
    "                          readout_format='d', style={'description_width':'150px'}, layout=b.layout)\n",
    "\n",
    "T_widget = IntSlider(value=298, min=0, max=1000, step=1, description='Temperature (K)',\\\n",
    "                     readout_format='d', style={'description_width':'150px'}, layout=b.layout)"
   ]
  },
  {
   "cell_type": "markdown",
   "metadata": {},
   "source": [
    "And the final touch."
   ]
  },
  {
   "cell_type": "code",
   "execution_count": 4,
   "metadata": {
    "colab": {
     "base_uri": "https://localhost:8080/",
     "height": 605,
     "referenced_widgets": [
      "93b976efb630471ba22ef18734a8171a",
      "2a389b9e6ff54510868407cd750c6cb0",
      "50b48399039d4ff097457e4637cd248e",
      "8b2331bc3a78449c8d1dfac0c31e4402",
      "3e229d8ef5d54652a8569f4ac54dca48",
      "2ac47c577f6d47bb85873c4e08022b80",
      "619ca8ba88704961a09264e86521636a",
      "66f1bf86bc934aa0b57ed22be756338c",
      "45f1c8b611b744bf8bb601c11a402a1f",
      "4a2a6387ef6242e58379fea53f2f9c3c",
      "1d6a8cb2f29f453ba52011838c3c1b5a",
      "3f22376ce5a34fc8ba8c9e84ce3fb3b9",
      "3b1cd12b4ec54177bad5a872212616e6",
      "3ba66188c8884ce7ac74db7b0c039ef7",
      "f1518c712ed944b9ad3612d8d59d5a48",
      "798465372313482b96240284bf1af9fc",
      "cdbc72de674b47e19cb15a83e8b7f500",
      "4edfbe8c79424bd4b1e4a2c6d07b8855"
     ]
    },
    "colab_type": "code",
    "executionInfo": {
     "elapsed": 421,
     "status": "ok",
     "timestamp": 1589129589615,
     "user": {
      "displayName": "Enze Chen MS",
      "photoUrl": "https://lh3.googleusercontent.com/a-/AOh14GjwqJNHl18iPBokhpQlJxTRBcO5YmTHBvMJplaF=s64",
      "userId": "10131766140526584353"
     },
     "user_tz": 300
    },
    "id": "Na0Hsqgmf1E8",
    "outputId": "dd3585cd-d689-45c4-f3f9-c1afe5c9e39b"
   },
   "outputs": [
    {
     "data": {
      "application/vnd.jupyter.widget-view+json": {
       "model_id": "1bb8dbfe542b400aa8ca0e89b6bfa2c5",
       "version_major": 2,
       "version_minor": 0
      },
      "text/plain": [
       "interactive(children=(FloatSlider(value=0.352, description='Lattice constant (nm)', layout=Layout(height='40px…"
      ]
     },
     "metadata": {},
     "output_type": "display_data"
    }
   ],
   "source": [
    "interact_manual.opts['manual_name'] = 'Generate plot'\n",
    "interact_manual(plot_XRD, a=a_widget, wavelength=w_widget, cell_type=c_widget, \n",
    "                          thickness=t_widget, T=T_widget, K=fixed(0.94));"
   ]
  }
 ],
 "metadata": {
  "colab": {
   "name": "XRD_widget.ipynb",
   "provenance": []
  },
  "kernelspec": {
   "display_name": "Python 3",
   "language": "python",
   "name": "python3"
  },
  "language_info": {
   "codemirror_mode": {
    "name": "ipython",
    "version": 3
   },
   "file_extension": ".py",
   "mimetype": "text/x-python",
   "name": "python",
   "nbconvert_exporter": "python",
   "pygments_lexer": "ipython3",
   "version": "3.7.7"
  },
  "widgets": {
   "application/vnd.jupyter.widget-state+json": {
    "1d6a8cb2f29f453ba52011838c3c1b5a": {
     "model_module": "@jupyter-widgets/base",
     "model_name": "LayoutModel",
     "state": {
      "_model_module": "@jupyter-widgets/base",
      "_model_module_version": "1.2.0",
      "_model_name": "LayoutModel",
      "_view_count": null,
      "_view_module": "@jupyter-widgets/base",
      "_view_module_version": "1.2.0",
      "_view_name": "LayoutView",
      "align_content": null,
      "align_items": null,
      "align_self": null,
      "border": null,
      "bottom": null,
      "display": null,
      "flex": null,
      "flex_flow": null,
      "grid_area": null,
      "grid_auto_columns": null,
      "grid_auto_flow": null,
      "grid_auto_rows": null,
      "grid_column": null,
      "grid_gap": null,
      "grid_row": null,
      "grid_template_areas": null,
      "grid_template_columns": null,
      "grid_template_rows": null,
      "height": "40px",
      "justify_content": null,
      "justify_items": null,
      "left": null,
      "margin": null,
      "max_height": null,
      "max_width": null,
      "min_height": null,
      "min_width": null,
      "object_fit": null,
      "object_position": null,
      "order": null,
      "overflow": null,
      "overflow_x": null,
      "overflow_y": null,
      "padding": null,
      "right": null,
      "top": null,
      "visibility": null,
      "width": "400px"
     }
    },
    "2a389b9e6ff54510868407cd750c6cb0": {
     "model_module": "@jupyter-widgets/base",
     "model_name": "LayoutModel",
     "state": {
      "_model_module": "@jupyter-widgets/base",
      "_model_module_version": "1.2.0",
      "_model_name": "LayoutModel",
      "_view_count": null,
      "_view_module": "@jupyter-widgets/base",
      "_view_module_version": "1.2.0",
      "_view_name": "LayoutView",
      "align_content": null,
      "align_items": null,
      "align_self": null,
      "border": null,
      "bottom": null,
      "display": null,
      "flex": null,
      "flex_flow": null,
      "grid_area": null,
      "grid_auto_columns": null,
      "grid_auto_flow": null,
      "grid_auto_rows": null,
      "grid_column": null,
      "grid_gap": null,
      "grid_row": null,
      "grid_template_areas": null,
      "grid_template_columns": null,
      "grid_template_rows": null,
      "height": null,
      "justify_content": null,
      "justify_items": null,
      "left": null,
      "margin": null,
      "max_height": null,
      "max_width": null,
      "min_height": null,
      "min_width": null,
      "object_fit": null,
      "object_position": null,
      "order": null,
      "overflow": null,
      "overflow_x": null,
      "overflow_y": null,
      "padding": null,
      "right": null,
      "top": null,
      "visibility": null,
      "width": null
     }
    },
    "2ac47c577f6d47bb85873c4e08022b80": {
     "model_module": "@jupyter-widgets/controls",
     "model_name": "FloatLogSliderModel",
     "state": {
      "_dom_classes": [],
      "_model_module": "@jupyter-widgets/controls",
      "_model_module_version": "1.5.0",
      "_model_name": "FloatLogSliderModel",
      "_view_count": null,
      "_view_module": "@jupyter-widgets/controls",
      "_view_module_version": "1.5.0",
      "_view_name": "FloatLogSliderView",
      "base": 10,
      "continuous_update": true,
      "description": "Crystallite size (nm)",
      "description_tooltip": null,
      "disabled": false,
      "layout": "IPY_MODEL_1d6a8cb2f29f453ba52011838c3c1b5a",
      "max": 3,
      "min": 0,
      "orientation": "horizontal",
      "readout": true,
      "readout_format": "d",
      "step": 0.1,
      "style": "IPY_MODEL_3ba66188c8884ce7ac74db7b0c039ef7",
      "value": 10
     }
    },
    "3b1cd12b4ec54177bad5a872212616e6": {
     "model_module": "@jupyter-widgets/controls",
     "model_name": "DescriptionStyleModel",
     "state": {
      "_model_module": "@jupyter-widgets/controls",
      "_model_module_version": "1.5.0",
      "_model_name": "DescriptionStyleModel",
      "_view_count": null,
      "_view_module": "@jupyter-widgets/base",
      "_view_module_version": "1.2.0",
      "_view_name": "StyleView",
      "description_width": "150px"
     }
    },
    "3ba66188c8884ce7ac74db7b0c039ef7": {
     "model_module": "@jupyter-widgets/controls",
     "model_name": "SliderStyleModel",
     "state": {
      "_model_module": "@jupyter-widgets/controls",
      "_model_module_version": "1.5.0",
      "_model_name": "SliderStyleModel",
      "_view_count": null,
      "_view_module": "@jupyter-widgets/base",
      "_view_module_version": "1.2.0",
      "_view_name": "StyleView",
      "description_width": "150px",
      "handle_color": null
     }
    },
    "3e229d8ef5d54652a8569f4ac54dca48": {
     "model_module": "@jupyter-widgets/controls",
     "model_name": "RadioButtonsModel",
     "state": {
      "_dom_classes": [],
      "_model_module": "@jupyter-widgets/controls",
      "_model_module_version": "1.5.0",
      "_model_name": "RadioButtonsModel",
      "_options_labels": [
       "FCC",
       "BCC"
      ],
      "_view_count": null,
      "_view_module": "@jupyter-widgets/controls",
      "_view_module_version": "1.5.0",
      "_view_name": "RadioButtonsView",
      "description": "Crystal structure",
      "description_tooltip": null,
      "disabled": false,
      "index": 0,
      "layout": "IPY_MODEL_1d6a8cb2f29f453ba52011838c3c1b5a",
      "style": "IPY_MODEL_3b1cd12b4ec54177bad5a872212616e6"
     }
    },
    "3f22376ce5a34fc8ba8c9e84ce3fb3b9": {
     "model_module": "@jupyter-widgets/controls",
     "model_name": "SliderStyleModel",
     "state": {
      "_model_module": "@jupyter-widgets/controls",
      "_model_module_version": "1.5.0",
      "_model_name": "SliderStyleModel",
      "_view_count": null,
      "_view_module": "@jupyter-widgets/base",
      "_view_module_version": "1.2.0",
      "_view_name": "StyleView",
      "description_width": "150px",
      "handle_color": null
     }
    },
    "45f1c8b611b744bf8bb601c11a402a1f": {
     "model_module": "@jupyter-widgets/output",
     "model_name": "OutputModel",
     "state": {
      "_dom_classes": [],
      "_model_module": "@jupyter-widgets/output",
      "_model_module_version": "1.0.0",
      "_model_name": "OutputModel",
      "_view_count": null,
      "_view_module": "@jupyter-widgets/output",
      "_view_module_version": "1.0.0",
      "_view_name": "OutputView",
      "layout": "IPY_MODEL_4edfbe8c79424bd4b1e4a2c6d07b8855",
      "msg_id": "",
      "outputs": [
       {
        "image/png": "iVBORw0KGgoAAAANSUhEUgAAAxAAAAFQCAYAAAAvPpi4AAAABHNCSVQICAgIfAhkiAAAAAlwSFlzAAALEgAACxIB0t1+/AAAADh0RVh0U29mdHdhcmUAbWF0cGxvdGxpYiB2ZXJzaW9uMy4yLjEsIGh0dHA6Ly9tYXRwbG90bGliLm9yZy+j8jraAAAgAElEQVR4nOzde3hU5bk3/u8zM5mEBMIhgBA5ROWgWLFEBNRaiOXt61usgN0qylbQV3SjRfSCKtZW3Wm31cKrCLaF/ihaxQLbvTVUZLe9qEaqBYkCogJyDAHCMeQcksnMPL8/JjN51sxaM7OSOa58P9fl1WRmrckziVPXve7nvm8hpQQREREREVE0bMleABERERERpQ8GEEREREREFDUGEEREREREFDUGEEREREREFLWkBRBCCCmEYAU3EREREVEacSR7AQAYRBARERERdY5I1A/iFiYiIiIiIooaAwgiIiIiIooaAwgiIiIiIooaAwgiIiIiIooaAwgiIiIiIooaAwgiIiIiIooaAwgiIiIiIooaAwgiIiIiIooaAwgiIiIiIooaAwhKum3btsFms2HRokWBxzweD95++208+eSTuOmmm9CzZ08IIfCtb30r7Gsl+ryXX34ZQgi899570b9hIiIiojQmpJTJ+cFCSABI1s+n1CClxPjx43HgwAEcPnwYvXv3BgDU1NQEvlZdeeWV+OqrrwxfL9HnNTc3Y/jw4cjOzsZXX32FjIwMw2OJiIiI4kgk6gcxA0FJtXbtWpSVlWHevHmaC/iMjAz867/+K15++WX84x//wMaNG6N6vUSfl5WVhSeeeAL79+/HypUrozqHiIiIKJ0xA0FJNW7cOHz22Wc4fPgwCgoKDI8rLS1FUVFRxIxAMs47f/488vPzMWTIEHzzzTcQImE3AIiIiIj8mIEg6ysrK0NZWRkmTpwYNnhIdX369MEtt9yCAwcOYPPmzcleDhEREVFcMYCgpCkpKQEATJ48Ockr6Tz/e9iwYUOSV0JEREQUXwwgKGlKS0sBANddd11yFxID/vfwwQcfJHklRERERPHFAIKSZteuXQCAK664Iskr6Tz/e9i7dy+am5uTvBoiIiKi+GEAQUnR2NiIpqYmAEBeXl6SV9N5TqcT3bt3BwCcOXMmyashIiIiih8GEJQUtbW1AIDMzEw4nc4kryY2cnNzAfhmShARERFZFQMISopevXoBAFpaWuByuZK8mtioq6sDAN2BdERERERWwQCCkiI7Oxs5OTkAgKqqqiSvpvNcLhcaGhoAAP369UvyaoiIiIjihwEEJU1hYSEAYM+ePUleSef538OoUaOQlZWV5NUQERERxQ8DCEqYY+eb8OG+M3C5vQCAoqIiAMDWrVuTuayY8L8H/3siIiIisipHshdAXcO5hhbcsvxj1F5oxQPfuQQ/u2UUpk2bhuLiYmzevBk/+9nPQs55+OGHsWPHDgDt9QWHDx/GhAkTAsc88MADeOCBB5J6HoDABOqpU6dG8+sgIiIiSlsMICghNuyqRO2FVgDAqo+P4Ge3jMKYMWMwYcIEbNmyBeXl5SgoKNCcs2fPHnz66aeaxy5cuKB57Oabbw75WYk+7/z589i4cSOGDx9uianaREREROEwgKCEuOBy6z4+f/583HXXXVi9ejWKi4s1z/knVZuV6PPWrFkDl8uFRx99FEKIDr0GERERUboQUsrk/GAhJAAk6+dTYi3dvB9LNx8IfP/NL29GpsMOKSUmTJiA/fv34/Dhw2nXArW5uRnDhg1DTk4OvvrqK2RkZCR7SURERNQ1JewuJouoKSHqm9263wshsGzZMtTW1uLFF19MxtI65Xe/+x1OnDiBJUuWMHggIiKiLoEZCEqIn7z9Bd7+/Hjg+9KFk1DQNyeJKyIiIiKyFGYgyFoaWrQZiGa3J0krISIiIqLOYABBCeGf/eDX0uo1OJKIiIiIUhkDCEoIl0cbMDS3MgNBRERElI4YQFBCBGcgmt3MQBARERGlIwYQlBDBGYgWZiCIiIiI0hIDCEoIZiCIuqZt27bBZrNh0aJFgcf27NmDxx57DDfeeCMGDx6Mbt26ITs7G5dffjl+/OMfo7y8XPe1Ghsb8dZbb+Gxxx7DDTfcgJycHAghcMstt4RdQ0fPmz9/Pux2O7744gvT75uIyMrYxpUS4n+99BEOnGkIfL/4X0bj9rGDk7giIoo3KSXGjx+PAwcOaAZFrlq1CnPmzMHAgQMxYsQIDBgwAPX19dixYwdOnTqFnJwcbNq0Cd/97nc1r7dr1y6MGTMm5OdMmTIFGzduNFxHR887ffo0LrvsMlx77bX48MMPo33bRETJwjauZC2twUXUzEAQWd7atWtRVlaGefPmaabMT548Gfv27UNlZSVKS0uxbt06vP/++6ioqMDjjz+OxsZGzJo1K+QGU48ePXD//ffjt7/9LT799FOsWLEiqnV09LyLLroIDz30EEpLS8MGGkREXQ0DCEqI4C1Mwd8TkfUsXboUQgjcf//9mscLCgowcuTIkOMzMjLw4osvIisrC+Xl5Thw4IDm+csuuwx/+MMfMHfuXIwbNw6ZmZlRraOj5wEIrP2VV16J+hwiIqtjAEEJEVxE7fYwgCCysrKyMpSVlWHixIkoKCiI+jybzQabzfefJjMX+vFy5ZVX4pprrsHf//537N+/P9nLISJKCQwgKCFagjIOwVuaiMhaSkpKAPi2K0XL6/XiF7/4BZqamnD11VdjyJAh8VqeKZMnT4aUEn/+85+TvRQiopTgSPYCqGsI3rLU6mHxPJGVlZaWAgCuu+46w2Oqq6vx+OOPB77etWsXKioqMHz4cKxduxZCJKweMCz/e/jggw+wcOHCJK+GiCj5GEBQQgRnHNxeZiCIrGzXrl0AgCuuuMLwmMbGRvzxj3/UPPbtb38br7/+etjzEm3UqFEAgJ07dyZ5JUREqYFbmCju3B4vvEEJB2YgiKyrsbERTU1NAIC8vDzD4wYNGgQpJaSUqKysRElJCbxeL6655hosW7YsUcuNqE+fPgCAs2fPsvU4EREYQFACBBdQA6yBILKy2tpaAL4iaKfTGdU5AwcOxNSpU1FaWor8/Hw8/vjjKXPHPzc3FwDg8XhQX1+f5NUQESUfAwiKO72WrW5mIIgsq1evXgCAlpYWuFwuU+f27t0bU6dOhdfrDRRiJ1tdXR0AwOFwoEePHkleDRFR8jGAoLhjBoKoa8nOzkZOTg4AoKqqyvT5/fr1AwCcOXMmpuvqKP976Nu3b8oUdhMRJRMDCIo7vQwEayCIrK2wsBAAsGfPHtPnfvDBBwCA4cOHx3RNHeV/D/73RETU1TGAoLjT3cLELkxEllLT5MKnh6sC2cWioiIAwNatW0OOXbp0KY4dOxbyeF1dHZ544gl89NFH6NGjB2bMmBHfRUfJ/x7874mIqKsTyeooIYSQANjRogv45lQ9/vfSLZrHfnDVAPx25jVJWhERxVJ1owv/6+WPcK7BhWnfzsfSGWOwc+dOFBYWYuLEiYGZEH4FBQWoqKjAqFGjMHLkSGRmZuLEiRPYtWsX6urq0KNHD6xbtw4/+MEPQn7W9OnTcfLkSQC+rkiHDx9Gr169MHLkyMAxP//5zzFlypSYnAcA11xzDXbu3Il9+/ZhxIgRHf49ERHFWcL2WHIOBMWdXraBW5iIrOOfh6pwrsFXLF2yqxK//perMWbMGEyYMAFbtmxBeXk5CgoKAsc///zz+Otf/4rPPvsMpaWlqK2tRY8ePTBy5Eh8//vfx8MPP4z8/Hzdn7Vz504cPXpU81hNTQ0+/fTTwPdnz56N2XlfffUVduzYgcmTJzN4ICJqwwCC4s4TPAQCLKImspLyqkbN96frmjG4Tzbmz5+Pu+66C6tXr0ZxcXHg+bvvvht33313x35WeXlCz1u9ejUAYP78+R06n4jIilgDQXHn1gkg2MaVyDqqG7WtWk/WNgMA7rzzTowbNw7Lly9HdXV1MpbWKadPn8bKlSsxadIk3HLLLcleDhFRymAAQXHHDASRtdVcaNV8X9f2vRACy5YtQ21tLV588cVkLK1Tnn/+eTQ3N2Pp0qXJXgoRUUrhFiaKO71sAwMIIuuoadIGEPUt7d+PHz8e3jTtuvbKK6/glVdeSfYyiIhSDjMQFHd6GQi9bU1ElJ5qL2i3MNU3u5O0EiIiSgQGEBR37MJEZG0hGQgGEERElsYAguKONRBE1tbk8mi+r2tuNTiSiIisgAEExZ3uFiYGEESW0dyqDSCYgSAisjZTRdRCCAHgGgBjAFwEoBeAagBnAOwAsENytDQFYQ0EkbVdCAogmoMyEkREZC1RBRBCiOsAPAzgFgC56lMA1CvBOiHEewB+K6XcFrNVUlrTCxb0ggoiSj9SypAAIvh7IiKylrABhBDiRgD/D76sgwDgAfAFgD0AzgOogy+gyAMwCsC3APwrgJlCiM8ALJBSfhy31VNaYAaCyLpa3F4E552DtzQREZG1GAYQQoi3AdwGwAXgvwH8EUCplLIxzDk5AG4CMAu+bMVHQoj/llLeEdNVU1phBoLIuvSCBWYgiIisLVwGYgqAlwC8IKWsiubF2oKL9wC8J4TIA/AUgLmdXiWlNY9OG1cWURNZg16w0NzKzzcRkZWFCyAuk1Ke7OgLtwUdC4UQ/6+jr0HWwAwEkXVd0CmY5hYmIiJrM2zj2pngIR6vQ+lLL1jwsFkXkSXoZyAYQBARWRnnQFDcuXWmTjMDQWQNrIEgIup6GEBQ3LELE5F1XXCF1juwBoKIyNpMDZKLRAjxMIC+ACClLI7la1P60tuuJCXg9UrYbCIJKyKiWNHLNjADQURkbTENIADMAzCi7WsGEATAeLuS2yvhZABBlNb0ggWX28sbBEREFhbrAKIMwKkYvyalOb0aCIB1EERW4HLrb1dqdnuQ7Yz1f2KIiCgVxPT/3aWU98by9cga9OZAAIDb6wVgT+xiiCimWg1murjcXmQ7E7wYIiJKCBZRU9wZFUwzA0GU/gwDCA6LJCKyLAYQFHfhaiCIKL0ZbWEyepyIiNIfAwiKO2YgiKyr1aDGiQEEEZF1RV0DIYQ4bOJ1pZTysg6shyyIGQgi6+IWJiKirsdMEXVBFMdIAKLtf4kA+IulQ3kM7lwSUfoIV0RNRETWZCaAuMTgcRuAoQCmwDcH4tcA/tDJdZGFGGUg9AbMEVF6Mco0GAUWRESU/qIOIKSUR8M8fQRAqRDiEwD/BWALgHDHUxdiGEAYZCaIKH20uvU/3y3MQBARWVZMi6illCUAvgTw01i+LqU3o1oH1kAQpT9uYSIi6nri0YXpAIDCOLwupSnDImrWQBClPQYQRERdTzwCiEsR4wnXlN7YxpXIuoxrIPj5JiKyqpgFEEIIuxDiCfiyD1/E6nUp/Rl1W+IWJqL0pwYKQrQ/7vJ4krAaIiJKBDNzID4I83R3AJcB6AXAC+BXnVwXWQgzEETW1apsVerudKC+xQ2AW5iIiKzMzFajSVEccwjAU1LKjR1bDlmRUbclo/kQRJQ+1BqI7Ew7Awgioi7ATABRFOY5F4ATUsqKTq6HLIgZCCLrUmsgcjIdAFoAsI0rEZGVmZkD8VE8F0LWpQYKdpsIfM8aCKL0p2Ygumc6lMf5+SYisqp4dGEi0lADhUxH+79yRsXVRJQ+1EAhx9keQHALExGRdTGAoLjzGgQQzEAQpT93yBYmH3ZhIiKyrpjOaxBCPAygLwBIKYtj+dqUvrQZCDuAVgCAVzKAIEp3LjUDkWlvf5wZCCIiy4r1wLd5AEa0fc0AggBoayAyM5iBILKSVoMMBGsgiIisK9YBRBmAUzF+TUpzhjUQbONKlPaMiqjZhYmIyLpiGkBIKe+N5euRNaiBgm8Lk4+bdyiJ0p46SI5F1EREXQOLqCnujDMQDCCI0p1hDYSHAQQRkVUxgKC4UwMFJ7swEVmKUQ2Ey80uTEREVsUAguJO3arEDASRtagBRLaTXZiIiLoC0zUQQojbAfwLfN2WcgEIncOklPKyTq6NLMIT0sbVhxkIovSnyUAoNRD8fBMRWVfUGQghhE0I8Q6AdQBuB3A1gEsAFCj/DFW+JgIAeKR+G9dU78K0bds22Gw2LFq0KPBYRUUFVqxYgWnTpmHIkCFwOp3o0aMHCgsLUVxcjLq6urCvWVlZiblz52Lo0KHIzMxEfn4+7rnnHuzfvz/sebW1tXjiiScwfPhwZGVloX///pg+fTq2b9+ue/yOHTtgs9mwYMEC82+cKEpSSk271mzOgSAi6hLMbGH6NwDTAHwB4PsA3gEgAYwEMAXA2rbjngdwaQzXSGlOUwNhT48aCCklHn30UfTs2RNPPvlk4PG7774bc+fOxfvvv48BAwbgtttuw3XXXYdDhw7h2WefxejRo3HkyBHd19y7dy9Gjx6NFStWIDs7G9OnT8eAAQOwZs0ajBkzBp988onueadOnUJhYSEWL16M1tZWTJ06FSNGjEBJSQmuv/56vP322yHnFBYW4rbbbsOrr76KAwcOxOaXQhREDR4y7EKzRbGVRdRERJZlJoC4B0AzgP8jpdwMoB4ApJQHpJT/I6WcCeABAE+hfZgcEdzKhYQmA5HCbVzXrl2LsrIyzJs3D7179w48fvHFF+Pll1/GqVOnsH37dqxbtw5/+9vfcPDgQUyaNAlHjx7F7NmzQ17P6/VixowZqKqqwsKFC7F3716sW7cOO3bswLJly9DU1IQ77rgDTU1NIefOmTMHhw8fxowZM3Dw4EGsX78eH3/8MUpKSiClxOzZs1FZWRly3rPPPguXy4Wnnnoqpr8bIj81SMiw25Ch3CBgFyYiIusyE0BcAWCrlPJ02/cSAIQQgRoIKeVrAL4G8JOYrZDSXjrWQCxduhRCCNx///2ax9evX4/HHnsMeXl5msf79euHN998EwCwZcsWHDt2TPP8pk2bsHv3bgwbNgwvvPCC5rl58+Zh0qRJqKysxOuvv6557quvvsLGjRuRm5uL3//+93A42veYT506Fffeey+ampqwdOnSkPdw1VVXYezYsSgpKUFFRYXp3wFRJOECiFZ36n6+iYioc8wEEJnQTplubvvfnkHHfQngms4siqwl3eZAlJWVoaysDBMnTkRBQUHU5w0aNAh9+/YFABw/flzzXElJCQBgxowZsNvtIefOnDlTc1zwebfeeit69OgR9Xl+s2bNgsfjwcqVK6N+H0TRcoULIJiBICKyLDMBxEkAFynf+4OJy4OOGwAgozOLImsxykCoxdWpxH8xPnnyZFPnnTt3DtXV1QCAgQMHap7buXMnAODaa6/VPdf/uP84s+cdPHgQDQ0NIc/738OGDRuieg9EZqg1EE670NQ4cQsTEZF1mQkgvgEwXPl+K3wtXJ/wb2MSQtwIYCKA8C1lqMuQUmoyEM40yECUlpYCAK677jpT5y1ZsgQejweFhYUhmQt/YfXQoUN1zx0yZAgAXxCiBgKRzuvZsydyc3MhpUR5eXnI8yNHjkTv3r3x9ddf48yZM6beD1EkrUqnpQyHTfP5ZgaCiMi6zAQQfwEwWAjhvxX6AYB9AKYCqBRCfA5gM3xBxe9iukpKW2qMIISvU4ufO0WLqHft2gUAuOKKK6I+Z/PmzViyZAlsNhteeumlkOf9QUFOTo7u+d27dw98XV9fH/V56rnqeX5CiMD7CM5uEHVWaA2EUJ5Lzc83ERF1nplBcm8BOAegDgCklB4hxFQA/w3gW/Btb/IC+I2U8g+xXiilJ7cy68FhE3DY2i8wUnEORGNjY6ATUnChtJEvv/wSt99+OzweD375y19i4sSJ8VyiaX369AEAnD59OsKRROaE1EAoGQjOgSAisq6oAwgp5Tn4ggj1sQMARgshRgLoA+BA23FEALTblOw2AbtaZJmCW5hqa2sBAJmZmXA6nRGP37dvHyZPnoyamhosWLAATz/9tO5x3bt3R3V1NRobG3WfV7ctqcXS/uyC0XnquXpF1gCQm5sLAKipqQnzTojMYw0EEVHXZGYLkyEp5TdSyq0MHiiYGkA4bDZNBsKbggFEr169AAAtLS1wuVxhj92/fz9uuukmnDlzBo888giWLFlieKy/JuLo0aO6z/vbvubl5Wm2M0U6r66uLjD92qhOwv+8Os+CKBbCtnH1eCFTtFECERF1TkwCCCIjIRkIJYBIxTkQ2dnZgXqDqqoqw+MOHDiAoqIinDx5EnPmzMHy5cvDvm5hYSEAX4tYPdu3bwcAjBkzpkPnDRs2zDAD4X8f/fv3D7tGIrM0RdR2G+w2Af9HXMrUbZRARESdYxhACCEeFEKENqw3QQhhF0I82JnXoPTm1mQggmsgUvPiwn/RvmfPHt3nDx06hKKiIlRWVuK+++7DypUrocxT1DV16lQAwLp16+DxeEKef+st3+7A6dOn65733nvv6RZJG53nJ6XEvn37AIQGJ6Rv27ZtsNlsWLRoUeCxiooKrFixAtOmTcOQIUPgdDrRo0cPFBYWori4OJDlCdbR8/wqKysxd+5cDB06FJmZmcjPz8c999yD/fv1G929++67EEJEDGhjRVMD0Vb/oO3ElJqfcSIi6pxwGYgVAPYIIWYJIbqZeVEhRDchxGwAe8GOTF1aqmcgpJT478+P478+Px5Ya1FREQBg69atIccfOXIERUVFOHHiBGbNmoVVq1ZFDB4AYMqUKRg9ejQOHjyIp556SvPcq6++itLSUuTn52P27Nma56666ipMmTIFtbW1ePDBB+F2uwPPbdiwAW+88Qays7Px2GOP6f7cffv2obq6GldeeSUzEFGQUuLRRx9Fz5498eSTTwYev/vuuzF37ly8//77GDBgAG677TZcd911OHToEJ599lmMHj060HJX1dHzAGDv3r0YPXo0VqxYgezsbEyfPh0DBgzAmjVrMGbMGHzyySch50yfPh1jx47Fc889h/Pnz8fuF2MguAYCgGYbEwupiYisKVwAcReALACrAZwSQqwSQtwlhCjQO1gIcYkQ4m4hxGr4hsz9AYATwIzYLpnSSXAGwp5iXZje+rQCC97+Agvf/gJvf+arQ5g2bRoAX2vWYD/60Y9w7NgxZGZmwuv14v7778fs2bND/vHf9fez2WxYu3Yt8vLysHjxYowaNQp33XUXxo4di3nz5qFbt25Yv349srOzQ37mqlWrcOmll2LdunUYNmwYZsyYgRtvvBHTp0+HEAKvvfYa8vPzdd+f/z34MxkU3tq1a1FWVoZ58+ZpakYuvvhivPzyyzh16hS2b9+OdevW4W9/+xsOHjyISZMm4ejRoyHBX2fO83q9mDFjBqqqqrBw4ULs3bsX69atw44dO7Bs2TI0NTXhjjvuCHQMUz3zzDM4f/48nn/++Vj+anQF10AAYCE1EVEXIMIVubVlHh4H8DCAfAD+g1sAnIevpWsugDz4ggXANwfiOIDfAHhFStls8NoSAIvsLK6iqgnfXfwhAGBwn254+gdX4N/W7AAAfH/URfj9vWOTuTzc/f9twz8P+WoErh7UExt+/B0AviFyn376KQ4fPqwZCldQUGBY0Kz68MMPMWnSpJDHKysrUVxcjE2bNuH06dPo06cPvve97+GZZ57BiBEjDF+vpqYG//Ef/4F3330Xx44dQ25uLm644Qb89Kc/xbhx4wzPGzt2LHbt2oXDhw8HhtWRsXHjxuGzzz4L+buHc/z4cQwePBiAb8uS/+vOnLdx40b88Ic/xLBhw7Bv3z7Y7drdpEVFRSgtLcVvfvMbPPzww5rnPB4PBg0ahAsXLuDEiRNhZ4h01oZdJzB/nW9uyq1X52PZXWMw4fm/41Sd7//2/7noJuT3MpXAJiKijou8JSJGwhZRSykvSCmfB1AA4E4A6wBUwpeZyAdwedv/ZsIXNLwJ4DYABVLKF42CB+o6tHMgbLDb2v+V86ZA8OgPHgDgi+O1ga/nz58PKSVWr16tOb68vBxSyoj/6AUPAJCfn48VK1agoqICLS0tOHnyJNasWRM2eAB83aEWL16MgwcPoqWlBWfPnkVJSUnY4GH37t34/PPPA/vvKbyysjKUlZVh4sSJUQcPADBo0CD07dsXgC8oiMV5JSUlAIAZM2aEBA8AMHPmTM1xKrvdjpkzZ6K2thZ/+tOfol5PR7jcoRmIDIc6TI4ZCCIiK4qqC5OU0i2lfFtKOVNKORhAf/iGx90A4EoA/aSUQ6WUs6WUJVJK/leDAGhrIGwCmiLqVKiBsBnE6nfeeSfGjRuH5cuXo7q6OrGLipHi4mJkZGTgV7/6VbKXkhb8F+OTJ082dd65c+cC/44MHDgwJuf5p4Zfe+21uuf6HzeaLu5/Dxs2bIh6PR2hqYFoCxycQa1ciYjIejrUxlVKeU5Kuadt9sNeKaVxv0vq0txBcyDsKdaFyWHT/wgIIbBs2TLU1tbixRdfTPCqOm/Hjh145513MG/ePAwfPjzZy0kLpaWlAHzb18xYsmQJPB4PCgsLTWUuwp3nL6w2mu3hzyidO3dOM4TQb/z48RBC4B//+Idu169Y0auB0BZRJ/8zTkREsRf1JGqijgjuwqTJQCS5xaOUUrPFCvANt7O1rXH8+PHwpkChd0cUFham7dqTZdcu317+K664IupzNm/ejCVLlsBms+Gll16K2Xn+oMCofkEdNlhfX6/5HvANDRw4cCAqKytx8OBBjBw5Muq1maFbRO1gETURkdVxkBzFlWYStT24C1NyA4jmVi+Cl9DocusfTJbW2NgY6GiUl5cX1Tlffvklbr/9dng8HhQXF2PixIlxPc+sPn36AABOnz4dl9cHguZA6GQguIWJiMiaGEBQXLmDMxB2tQYiuRcXdc2tIY81ueK33YNSV22tr4A+MzMTTqczwtG++RqTJ09GTU0NFixYgKeffjqqnxPtef6MQmNjo+7z6rYlownkubm5AHwdvOKl1a03B0IpouYcCCIiS2IAQXHlCZkDYdN9Lhnqm0OzDQ0tzEB0Rb169QIAtLS0wOVyhT12//79uOmmm3DmzBk88sgjWLJkSVQ/w8x5/poIo5bBx475Zpbk5eWFbF/y80+5VudZxFrEGghmIIiILIkBBMWVmmUIqYFIcgDR4g7NNjS1MAPRFWVnZwfqDaqqjHtCHDhwALrg3+MAACAASURBVEVFRTh58iTmzJmD5cuXR/X6Zs8rLCwE4Gstq2f79u0AgDFjxhi+hv99xHMCuSaAaKt9yHSoW5hYRE1EZEUMICiuPCnchcmls72CGYiuy3/RvmfPHt3nDx06hKKiIlRWVuK+++7DypUrIUTkmT0dOc8/OXzdunW6XZTeeustAMD06dN1z6+ursapU6eQm5uLYcOGRVxjR7EGgoioa2IAQXEVXANhT6EMhN7d0SYWUXcJLW4PNu85jQOn6wOPFRUVAQC2bt0acvyRI0dQVFSEEydOYNasWVi1alVUwUNHz5syZQpGjx6NgwcP4qmnntI89+qrr6K0tBT5+fmYPXu27vnbtm2DlBI33nij7iC6WFEDhPYaCLWNKwMIIiIrirqNqxCit5QyPSdqUdJ4PME1EKmdgWjhBU+X8KtN+/D6P8vhdNjw18e+i0v65mDatGkoLi7G5s2b8bOf/Uxz/I9+9CMcO3YMmZmZ8Hq9uP/++3Vfd9GiRbj88ss7fZ7NZsPatWvx3e9+F4sXL8bGjRtx9dVX48CBA/j888/RrVs3rF+/HtnZ2bqvt3nzZgDtmYx4UYuoWQNBRNR1mJkDcVwIsRbAb6WUO+K1ILIWNctgC6mBSO7FhUtna4heXQRZi5QSr/+zHIAviHx/dyV+fNNwjBkzBhMmTMCWLVtQXl6uGe52/vx5AL4i6zfffNPwtWfPnq0JBDp6HgCMGjUKu3fvRnFxMTZt2oR33nkHffr0wcyZM/HMM89gxIgRuq/ldrvxpz/9CT179sTdd98d9nfRWfpzIITu80REZB1mAgg7gPsB3CeE2A7gNwD+U0oZvmUJdWmhXZjaLy6SPedMNwPRygseq6u9oG3fW1nbHPh6/vz5uOuuu7B69WoUFxcHHi8vL+/Qz+roeX75+flYsWKFqXM2bdqEU6dOYcGCBYaD6GLFpVNE7VRrIJjRIyKyJDM1EBcD+CmACgDjAfwRvqzEr4QQQ+OxOEp/oV2YbLrPJYNLpwaCW5is70x9i/b7uvbv77zzTowbNw7Lly9HdXV67tj8xS9+gT59+uCnP/1p3H9WpBoIdmEiIrKmqAMIKWWVlPIFAJcCmArgbwDyADwJ4KAQYoMQ4n/HZ5mUrrwy3WoguIXJ6tSAAQBqmtqTqEIILFu2DLW1tXjxxRcTvbROe/fdd/HZZ5/hueeeC0yijic1QAjUQDhYA0FEZHVmtjABAKSUEsB7AN4TQlwK4GEA9wH4IYBbhBCHAfwWwGtSyviNQKW04PaoXZhsKTUHgluYuqZzDUEBRNCWpvHjx8Ob7P11HTR9+nRImbjPVcRBcszoERFZUqfauEopD0spFwLIB/BrAAK+DMUS+LY3vSqEGND5ZVK6CqmBsCsZiCRvb9Ar8OQWJuurb9YGDGoGgsxRAwRH22fbaWcRNRGR1XUqgBBC2IQQtwF4H8BP2h6uAbAJvuzGwwC+FkJc26lVUtrSzIGwp9Ykam5h6poagqaN1zS1JvSuvZVoayA4SI6IqKvoUAAhhBgghHgGwFEAbwO4CcDXAP4NwCAp5Q8BDAawHEBvAItjs1xKN+G6MCW9BoIZiC6pMWjauNsr0cytax2iVwPhdLCImojI6kzVQAghJsGXVZjadq4XQAmA5VLKUvVYKeVZAPOFEFcBYAaiiwqeRJ1KXZj0ggXWQFhfQ0votPFGlxvdnPGb2GxVEWsgmIEgIrIkM5OovwZwOXx1DucBrALwGynlsQinHgYwscMrpLTmUYIEh01ASUDAKwGvV8KmPphA+jUQ3MJkdcEZCAC44OLfvSPUAME/QM7JImoiIsszk4G4AsAX8G1L+pOUsjnC8X5/APAPswsjawieRC2EbxuTf/uSR0rYkJwAQr8Gghc8VqeXgWhiANEhuhkITqImIrI8MwHEd6WUH5v9AVLKrQC2mj2PrEHttGQXvgsLTQDhlchI0s4RBhBdk9EWJjKv1a0zB4JF1ERElmemiPpSIcT1kQ4SQkwQQtzbiTWRhagZCEfbhUWqdGJiF6auiVuYYifyHAgWURMRWZGZAOJ1AA9Ecdz/BfBah1ZDlhPchQlAynRi0q2BYBG15TW2hAYLekEFRebSaeOq7cLEzxMRkRV1ag6EgeRsaKeUFNyFCdBmIJIZQLToXNw0MwNheXrblS608u/eEZoMBIuoiYi6jHgEEIMANMThdSkNBXdhAgB7irRy1bu4aeWWC8vTm/mgl5WgyPTmQLAGgojI+sIWUevUMgwLU9/ggK9T0/cAlMVgbWQBqZyB0A0geMFjeXp1Lk0sojbN65W6WxQz7OzCRERkdZG6ML0OQL3Cu6HtHyMCvuFySzq3LLIK9QLDf2dSrYFwJ3FSrd7FDQdfWZ9epy0WUZvX6tXWPwjhDyDUQXLM6BERWVGkAOINtAcQswAcAvCJwbEuACcAbJBSfhGb5VG6081A2JmBoOSQUur+3RsZQJim3b7U/pnOZBE1EZHlhQ0gpJSz/V8LIWYB+FhKeX+8F0XWoc6B0OvClNQ2rjoXN628Y2ppRnM+2L7XvFa3WkDdHjSwBoKIyPrMDJK7BCyOJpPSrgaCXWMszTiA4N/dLL0ZEIA2mGAXJiIia4o6gJBSHo3nQsiaNF2Y7CnWhUlvDgTvmFqaUaaB8z/M05sBAbCImoioKzAMIIQQQ9q+PCGl9CjfR0VKWdGplZElaDMQ/iLq9udTLgPh8UJKGSgIJWsxChQ4/8M8oxoIzoEgIrK+cBmIcvg6Ko0CsL/t+2iv9mSE16YuQn8StZqBSK0AQkrfmtVCb7IOZiBix3ALk6YGgjVFRERWFO4ivwK+QKA16HuiqKV0DYTB9opWj4TDnuDFUELoDZEDWETdEWoArgYNTnZhIiKyPMMAQkpZEO57omjoZyBSI4BQC6aF8GUfAF9g0Q2MIKzIsIiaGQjTNBkIJWhwBHVZ83olbDZm9IiIrMQW+RCijkuXDER3Z3sszbum1qVmGrIybLqPU3TU7UlOZcufEEJbB8HPExGR5TCAoLjSdGGy6UyiTlIA4fVKzQVQdmZ7xoEBhHWpGYie3TICXxttbSJjRjUQvu/ZiYmIyMqiDiCEEHlCiHFCiL5Bj18shFgjhPhSCPGeEGJM7JdJ6crtiZSBSM7FhUtz8SM0+7bZOca61K1KagDBDIR5rnABhIOF1EREVmYmA/EUgK0A8v0PCCEyAXwM4C4AVwKYAuADIcTgWC6S0pemBkJvDkSSLi5ag3rYc3pu16AGCrlZagDBv7lZmknUQV3LnPw8ERFZmpkAogjAYSnlbuWxGQCGAvgQwGQAywD0BPDjmK2Q0lqq1kCoWQanwxbUu553TK1KzUDkarYwMQNhlmaQnCN4CxMzekREVmYmgLgYwKGgx6bA19p1jpTyAynlYwAOA7g5RuujNKfbhcme/BqI4IsfZiC6BjUDod3CxL+5WeFqIDRbAvl5IiKyHDMBRG8A54Ieuw7AN1LKI8pjOwFwCxMBSN0MRKuSZXA6bOxd30WogUJulkP3cYqO+hliETURUddiJoC4ACBQQC2EGAJfVuKToONcAJydXxpZQap2YXJ52u9EZ9htmgse3jG1LjVQyMl0BP5d9HglL3RNCltErWb0uCWQiMhyzAQQewB8R+nCNBO+7Utbgo4bDOB0DNZGFqCXgbCL5HdhUi8kg4uouWfbulqUWodMhx1ZDnUWBP/uZqgBV2a4GggGZkRElmMmgHgDQDaAz4QQ7wB4DkA9gA3+A4QQWQAKAeyL4RopjenVQDhSoQbCrb340XaN4R1Tq2pW/+4ZNmRmtM//aGEhtSmtnjBdmLglkIjI0hyRDwn4PYAJAO4FMAS+4OH/SinrlGNuhS/I+ChmK6S0pjcHwp4KNRAebQ0Ei6i7Bm0GwqbJQDQzA2GKyx2miJqfJyIiS4s6gJBSegHMFkI8A6A/gH1Syoagw/YDmA5gW+yWSOlMbw6EQ5kDkQptXDPstqDBV7zgsaoWTebJzgxEJ7g80RVRc0sgEZH1mMlAAACklBUAKgye2wVgV2cXRdahWwORAhkItYjal4HgBU9X0BK0dU3du9/cyr+7Ga1RzoFgQE5EZD1maiCITNPrwuRIhS5MQUXUmQ7WQHQF6hyIrIygDISbGQgzWoM+Q6oMzRwIfp6IiKzGdAZCCHEdgO8ByAeQZXCYlFL+384sjKwhdTMQrIHoitRJ1MxAdE7YImpNG1f+XomIrCbqAEIIkQlgPYAf+h8Kc7gEwACC9LswqRmIJN2dDM5AsI1r19AS3IWJE5M7TDMHwsEiaiKirsRMBuI5+LosNQB4E75WrXXhTiDSz0CoRdTJubjQBBBBGQheSFpXc/AcCBZRd5gr3CRqBwczEhFZmZkA4k4AjQCulVJ+E6f1kMWk7hwIbRG1U1kT75haV9giamaeTNEUUYeZRM2MHhGR9Zgpos4H8DGDB4qWlFITQKRSDYRmDoSdNRBdhVoo7dvCxAxER4XrwsTBjERE1mYmgDgLblkiE4KDByHaAgiRAhmIoP3bTnZh6hLUDESWw47MDJvucxSZtoiabVyJiLoSMwHEJgDXCyFMd26irkmv/iH462RlIFpYRN0labowBRVRM4Awp8UdpgsTBzMSEVmamQDi523/+2pbRyaisPTqH4DgGogUKaJmN54uQbOFyWHXbmHiHAhToq6BSPDnadu2bbDZbFi0aFHgsYqKCqxYsQLTpk3DkCFD4HQ60aNHDxQWFqK4uBh1dfrJ9USf9/LLL0MIgffee6/zvwgiojgyk034NwB/BTAHwM1CiA/gm0it918HKaX8RQzWR2kslTMQ6sVPZnARNe9EW1a4IuoWzoEwRd3qF9zGNVmT3aWUePTRR9GzZ088+eSTgcfvvvtufPLJJ3A4HBgzZgyuv/56nD9/Hp9++imeffZZrF69Gh9++CEuueQSzesl+ry5c+fipZdewsKFC3HzzTcjIyMjfr8sIqJOMNvGVcI3/2EIgNk6x/iflwAYQHRxhhmIFAggXG7t/m3u2bY+KWVQG1ebpo1rMzMQpoTLQCRrC9PatWtRVlaGn//85+jdu3fg8Ysvvhgvv/wy7rnnHuTl5QUeP3v2LO644w6UlpZi9uzZ+OijjzSvl+jzsrKy8MQTT+DRRx/FypUr8eMf/zgmvxciolgzE0D8e9xWQZakbk9SZz+oXyevjavxHAgWUVuT2yvh/9fNYRNw2JmB6IzgIFyl+Ty5E/d5Wrp0KYQQuP/++zWPr1+/Xvf4fv364c0338TgwYOxZcsWHDt2DIMHD07aeQAwc+ZM/OQnP8GyZcvwyCOPBJpPEBGlkqhrIKSU/27mn3gumtJDSmcgPGGKqJmBsKTg7UsA2IWpEzSfIYf2IjcZGb2ysjKUlZVh4sSJKCgoiPq8QYMGoW/fvgCA48ePJ/28Pn364JZbbsGBAwewefPmqF+3K9Crb9Fz6tQp5OXlQQiB7t27hz22srISc+fOxdChQ5GZmYn8/Hzcc8892L9/f9jzamtr8cQTT2D48OHIyspC//79MX36dGzfvl33+B07dsBms2HBggXh3yRRmjBTRE1kitsTuQYiFdq4OoP2wnMLkzWpcx4y27YusYi648K1cXUmoSlBSUkJAGDy5Mmmzjt37hyqq6sBAAMHDkyJ8/zvYcOGDVG/rtUZ1bfoeeihhwK/43D27t2L0aNHY8WKFcjOzsb06dMxYMAArFmzBmPGjMEnn3yie96pU6dQWFiIxYsXo7W1FVOnTsWIESNQUlKC66+/Hm+//XbIOYWFhbjtttvw6quv4sCBA9G9aaIU1qEAQgjRUwgxWQhxlxDi+lgviqxBk4GwG2QgkrRdiDUQXY9uBoJtXDtM3ZoUEkAkoYi6tLQUAHDdddeZOm/JkiXweDwoLCw0lbmI53n+9/DBBx9E/bpW569vmTdvnqa+Jdgbb7yBP//5z3j44YfDvp7X68WMGTNQVVWFhQsXYu/evVi3bh127NiBZcuWoampCXfccQeamppCzp0zZw4OHz6MGTNm4ODBg1i/fj0+/vhjlJSUQEqJ2bNno7KyMuS8Z599Fi6XC0899ZT5XwBRijEVQLQFDqsBnIGvI9MaAA8ozz8ghKgUQkyI7TIpHUXThSkVaiAyHbakdY2hxIkYQLAGwpRwk6iTEZDv2rULAHDFFVdEfc7mzZuxZMkS2Gw2vPTSSylznv897N27F83NzVG/vpUZ1beoKisrMX/+fIwbNw6PP/542NfbtGkTdu/ejWHDhuGFF17QPDdv3jxMmjQJlZWVeP311zXPffXVV9i4cSNyc3Px+9//Hg5Heynp1KlTce+996KpqQlLly4N+ZlXXXUVxo4di5KSElRUVETxrolSV9QBhBAiB0ApfN2XqgH8D3wdl1QbAVwEYFpslkfpLJo5EJ6UnAPBImor0nZgatvClMEtTB3linoSdfw/T42NjYE7xWrXo3C+/PJL3H777fB4PCguLsbEiRNT5jyn0xnYu3/mzJmoXt/Koq1vefDBB9HU1ITVq1fDbrcbHge0b3mbMWOG7rEzZ87UHBd83q233ooePXpEfZ7frFmz4PF4sHLlyrDrI0p1ZjIQCwFcDV/W4VIp5S3BB0gpTwHYA+Cm2CyP0lkqd2EKvnvq5CRqy1MzEFltxdNZzEB0mCtomrsq0U0JamtrAQCZmZlwOp0Rj9+3bx8mT56MmpoaLFiwAE8//XRUPyeR5+Xm5gIAampqovoZVhZNfctrr72G999/H08//TSuvPLKiK+5c+dOAMC1116r+7z/cf9xZs87ePAgGhoaQp5nfQtZhZkA4nYAlQDmSClDNwW22w/g4k6tiizBKANhF6nVhYk1EF1DCzMQMaUtotYmoxM9B6JXr14AgJaWFrhcrrDH7t+/HzfddBPOnDmDRx55BEuWLInqZyT6PP+06nD7/buKSPUtx48fx+OPP47Ro0dHXV9w5MgRAMDQoUN1nx8yZAgAX9G7GghEOq9nz57Izc2FlBLl5eUhz48cORK9e/fG119/zewSpTUzAcSlAMqklC0RjmsGEF0OmSzNbVBEnWo1EE67Tds1hhkIS9LUQGSwiLozPMpMDSG0n2lAm5FIRACRnZ2NnJwcAEBVVZXhcQcOHEBRURFOnjyJOXPmYPny5VG9fqLPc7lcgYvWfv36RXWOlUWqb5kzZw4aGhqwevXqqKd3+3+//n9vgqntX+vr66M+Tz1XPc9PCBF4H8HZDaJ0YiaAaAWQFcVxgwGE5u2oy4muBiL5GQinw5a0ybmUOOzCFDvBU6iDh51lOBLflKCwsBAAsGfPHt3nDx06hKKiIlRWVuK+++7DypUroxrSlujz1PcwatQoZGVF859d64pU37Jq1Sr85S9/wcKFC3HNNdckenkd0qdPHwDA6dOnk7wSoo4zE0B8A2CMECLT6AAhRG/46iS+7OzCKP2l9ByIoItJ1kBYn7pFSXcLUyu3MEUreBBjsEQUUR+vbsL/fHkSdc2tAICioiIAwNatW0OOPXLkCIqKinDixAnMmjULq1atiupiPtHn+fnfg/89dWXh6luOHTuGBQsWYOTIkXjuuedMva4/S9DY2Kj7vLptSS2WjnSeeq5ekTXA+hayBkfkQwL+C8ALAF4E8JjBMc8D6A7gPzu5LrIAbQbCpnzd/h9SbwoEEMEZCAYQ1tTcyi1MsaKZo+IIDSDiHZCfrL2AH7zyD9Q1uzF6UE+8+/ANmDZtGoqLi7F582b87Gc/0xz/ox/9CMeOHUNmZia8Xq9hK9BFixbh8ssvT9p5fv4J1FOnTg3/i+gCgutb1CDi73//O+rq6pCXl4ebb75Zc56//e2FCxcwadIkAMAvf/lLfOc73wEAFBQUoLq6GkePHsXVV18d8nOPHTsGwJf1ULczFRQUYOfOnTh69Kjueuvq6gL1K0Z1EqxvISswE0C8CmAWgHlCiLEA3ml7vEAIMRe+IuuJ8GUf/hDTVVJaalW6MNlSLQMRVEStuZDkFiZL0stAZCkZiGZmIKIWroDa91h8twRu2FWJumY3AGD38VrsrKjG2DFjMGHCBGzZsgXl5eWadp/nz58H4LsIffPNNw1fd/bs2ZoL+kSf5z9348aNGD58uOmp2lbkr29pbGxEVVWV7vTuI0eOBIqbg3m9Xnz00UcAfAXRfoWFhdi5cyfKyspw6623hpy3fft2AMCYMWM0jxcWFuLdd99FWVmZ7s/znzds2DDDDIS/Tqd///66zxOlg6i3MLV1Xvo+gE8BXA9gcdtTE+ELLiYB2AFgipQyfBsM6hLULUxOzSTq9n/tkjUHojV4DkTQHVMpOQvCatQ2rayB6JxwU6iB+Hdh+qz8vOb77W3fz58/H1JKrF69WvN8eXk5pJQR//HfqU7WeQCwZs0auFwuPProo6a2PVmZUX3L7NmzDX+3/oAiJycn8Ni0ae0jqvzZnXXr1sHjCb158NZbbwEApk+frnncf957772nWyRtdJ6flBL79u0DEBqcEKUTU5OopZQnpJTXA/gBgN8A2ATgb/BlHH4EYJyU8kTMV0lpya1cODg0cyBSKwPhtNtgtwnNuhIx/IoSS68Lk8Mm4P+zu71S8+8sGQtuQhAs3pPd957UXrgdOuPbj37nnXdi3LhxWL58Oaqrq2P+c+OtubkZv/71rzFixAg89NBDyV5OUkgp8cd/lmPBf36Bryt99Q/h6ls6asqUKRg9ejQOHjwY0vr11VdfRWlpKfLz8zF79mzNc1dddRWmTJmC2tpaPPjgg3C73YHnNmzYgDfeeAPZ2dl47DH9nd779u1DdXU1rrzySmYgKK2ZCiD8pJR/kVI+KqW8RUr5f6SUD0op35W8bUsKzTYhh34NRDK6MHm9UhMg+C92Et16khJLbxK1ECLwNZCYoWdWoKmBsCW2iLrV48XJ2guaxw6d9RWtCiGwbNky1NbW4sUXX4zpz02E3/3udzhx4gSWLFkSdTtSq1m7/Rie/fPX+O8dxzFz1aeoaXIFMgf+2pBYsNlsWLt2LfLy8rB48WKMGjUKd911F8aOHYt58+ahW7duWL9+PbKzs0POXbVqFS699FKsW7cOw4YNw4wZM3DjjTdi+vTpEELgtddeQ35+vu7PZX0LWUXUAYQQ4hkhROhGwdDjfiiEeKZzyyIrULcwZRjVQCThTn9w9sG/TYCF1NamN4kaaM9GAJxGHS31M6T+Lv2CJ1HH8t7SqdpmBN93qKxpDyjGjx8Pr9eLF154IWY/M1Eef/xxSCnxwx/+MNlLSZpVHx8OfF3T1Ir3dp/EmKD6llgZNWoUdu/ejYceeggNDQ145513cOLECcycORO7du0KFFwHGzBgAD7//HMsXLgQDocD7777Lvbt24dbb70V//znP3HHHXcY/sw//vGPsNvtXTbDRNZhJgPxHIBpkQ4CcCuAZzu0GrIUt1LfoM5+UL92J6EGotVg+4UmgOCdaMvRK6L2fc06CLP0pnqrgrcExnKr4rHqppDHzjW0cPuZBZyua8bhs9r2qB99cxaAcX2LkYKCAkgpNe1Y9eTn52PFihWoqKhAS0sLTp48iTVr1mDEiBFhz+vVqxcWL16MgwcPoqWlBWfPnkVJSQnGjRtneM7u3bvx+eefY9q0aYFJ10TpqkNbmCKwA+BWJoLLo19oqdZDJCUD4TYIIDgLwtL0Bsn5vlZmQbjZiSkaevUkwdQ6iFhuCTxRfSHkMa8Ezja0xOxnUHLsOBpat/LlCd+shHSvbwGA4uJiZGRk4Fe/+lWyl0LUafEIIC4DUBeH16U04w5qlerntCf3Tr/LoAWlk3eiLU2vCxOg3YLTzC1MUTEKxlSamiJ37G4UGAUKJ2ubY/YzKDl2n6gNeex0XQtO1zWnfX3Ljh078M4772DevHkYPnx4spdD1Glh50Do1DJ8O0x9gwPAFQC+A6C080ujdNeq6cLUfqGe4YjPncloaadQt999ZhG1tTUr2QV1/gMzEOYZbQdTaQJyjwdAbIqCa5padR8/zQAi7R05qz/d+eCZBlyUmxWob0lHhYWFabt2Ij2RBsk9B992JP8V37fb/gmnCUBx55ZFVqDpdKRcTKjZiJTawsQiakszykCwBsI8o9+lKl6dmKob9ccMnW/i+KF0d+RcewAxrH93HDzTEHj8hmF9k7UsItIRKYAoRnsA8QyAXQA2GBzrAnACwF+llKdjtkJKW0ZdmBxBxZVer9RMqo439SJRzTqwiNraNHfN1QwEuzCZFl0NhLqFKXa/12olA3Fp3xwcbrvoNAosKD14vRJHqtoDiJsu7x8IIMrP6WcmiCh5wgYQUsrn/F+3bV3aJaX893gviqxBs4VJuZgQQiDDLgJ3JVu9XmTa9LdBxEMLi6i7JBZRx040W5jiVURdo2QaLu3XHkBUMYBIa5W1FwL/v9u3uxNXXdwz8Fx5FQMIolQTKQMRIKWMR8E1WVirVy1W1v7rk2G3odXjuwhp9UhkRv1vYue5DC4kM7iFydLU1qPaGghuYTIrqiLqOA3oO68JILoDe88AYAYi3VVUtbfnHZqXg0v65gS+P1oV2rqXiJKLQQHFjVtn2nP79/HZ3hANl9EcCDsvJK3MOAOh/t2ZgYhGNDUQTk0GInY1EDVBW5j8zhsUV1N6ULto5ffqhvxe3XSfI6LUYPq+rxDiYgBFAPIBZBkcJqWUv+jMwij9GXVhAoICiAR3ptAOwdK/kGQXJusxCiDUbATbuEbHqJ5ElRGHLYFerwzawtQ98DUzEOntVF17kDCwZxZ6Z2cg02FDi9uLhhY36ppbkZsVm05eRNR5UQcQQggBYCmAh9GeuQiufPUXXEsADCC6OKMuTED87k5GQ81AaNq4cguTpWkCR6MtTK3MQEQjmi1MGXFoi1zf7IZ/qHX3TAcuys0MPHeeAURaO1nbPiBwQG4WhBDI79Ut0JnpVG0zAwiiFGImA/ETAPMA4Ie6dAAAIABJREFUeAH8BcA+cGAchaFeNGTYtBcZjmRuYYqmiJoZCMtpNtrClKEWUfPvHg1tEbVBABGHrmbVSvahV3YG+uQ4dZ+j9HOqtn1A4MCevs0NA3KzAgFEZc0FjLioR1LWRkShzAQQ9wFoBfA9KeXHcVoPWYhb04UpeAtT8obJGbVxVQfcMQNhPSyijh1tDYTBIDn1Mx6j36saJPTOdqJ7piPQ0a3J5UFzq0fzt6X0caquPQNxUVsAMbBX+y5p1kEQpRYzRdSXAPgHgweKVqtXLaIO7cLkl+i7/cYZCLvuMWQNLKKOHaNWyCqnpqYoNtsU1QLqXtkZEEKgd3Z7FoLbmNLXqVptDYT6vwADCKJUYyaAqAFwJl4LIetR7zoGd2FSLy4SPY3aqI0rB8lZl9vjhbstoLUJbVG/Zg4Ei6ijEtUWJs1NgtgEZmqA4A8c1ACC25jSU4vbg3MNvr+dTQD9uvtqWwb2VDox1VzQPZeIksNMAPEBgGvjtRCyHreSgXAE10DYkreFybCNK4uoLSu4cN7XE6Lte2WScjMzEFExP4k6NjcJtFuYfAW1vbLbC2urG9nKNR2dqWuvf+jfIytQI5fPLUxEKctMAPFzAP2EED+P12LIWjRF1I7U2cKk7oV3GmxlYQbCWtT2rFlBF7xZzECYFk0NRDw+49otTL7MAwup05/awvUiZdvSgNxuuscQUfKZKaK+AcBrAJ4TQvwAwP8AqICvK1MIKeUbnV8epTNtFybjLUyJbuPaYpCBULdZMQNhLdotN9oLXvUOOouoo6PN6EQzSC72RdT+wKGXsoWphgFEWlKzCwNzlQBCCSZOMQNBlFLMBBCvo33Ow3gA4yIczwCii1NrGxxhiqjdSSyi1syBiMPgK0oNmjvmQRkIFlGbFy4g83PGobtVcBE10L6VCQCqOY06LZ1SZ0AoQUPv7Aw4HTa42obJNbS40T3T9PxbIooDM5/EN+ALIIiioslApFAbV8MuTA52YbKqcIPPNEXU/LtHJVxA5tdNaad6wRWbwCy4jav6v8HPU/o4qdOBCQCEEBiQm4WK800AfFmIYf27h5xPRIkXdQAhpZwdx3WQBWkmUQdlIBya/dEJ3sKkXkza9YuoEx3UUHxdMJgBAQRPoubfPRrRTKLu5mz/z0tzjCZ8qxkGf+CgFlHXMAORltQi6ouULUwAGEAQpSgzRdREpri9xoPknCkyiVq9e6rZcsEAwlKaXO7A192CA4gMbmEySw0IjLYwdVN+r02xykA0aidRA8xAWIGmiDoogFCLqllITZQ6GEBQ3KgZiOA2rimzhUnNQLAGwrLUC95uzuAMhF05jn/3aKgZneCAzC9byUBciFkGQtnC1FZE3TtHbePKACIdnVYCA7UGAtBuaTrNAIIoZRhuYRJCfLczLyyl3NKZ8yn9GQ1sA4J6xHsTvYVJv42r08EuTFal3gHPDgogspiBME2taQgOyPyynLGtgbjg8gS2TjntNuS0vb42A8EtTOlGShk0ByJT87yakThZy2FyRKkiXA1EKTpeNC0jvDZ1AeH2SWckcwuT0SA5O4uorUq9gA2tgWARtRmtylRvu02ENEjwy1aLqGOQgVCzD72yMwLDALmFKb3VNLUG/j+5R6YDOUFdlgbkqq1cW0BEqSHcRX4F2HWJOsHoTj+QOluY1ItHdS88B8lZi3oBG5yBUINbbmGKTJPNydBO9VapmQm1BqWj9DowAUButwwIAUgJ1De74fZ4Q9pGU+o6Xd++Lal/bmbI8wO4hYkoJRkGEFLKggSugyzI6EIdCMpApEgb1yzNXnhuZbESzZaboAyEutWmhX/3iKLZvhT83IUYBGZ6MyAAXxakZ7eMwPM1F1rRt3vohSilptNhOjABQcPkGEAQpQzepqG4kFJqtoOEZiBSo42rWjjdzdn+dayKPik1NGkuerX3TdStNo0uN6Rk4jUcNZsQnM1RZWtqIOKXgQj+ntOo08vpWuMOTICvJsKf5DrX0MIW20QpggEExYW2A5OA3RbUxlUJKJI5iVqTgVAuJJtj1HaSUkNzmC1MDrstsI3JK1kHEUm4YEzVLdY1EI1qB6YMzXNqRuJ8Iwup08npMC1cAd/NJn9GSUrgTD3rIIhSAQMIigu1/kFv0JRaA5HoCzaj/fCaAIIXkZbSFGYLEwBN4WZjS+fvlltZuHoSVbcYd2FSOyz1ydFmIPqwkDptqTUQF+nUQADBhdTcxkSUChhAUFyE274EaC/WE90606iHveaOKTMQltIUYd9+tqbgl3/7cCIFY3rPxeJ3er7ReAtTL25hSluRaiCCH2cAQZQaGEBQXIQroAaCC5YTnIEwuJjMCtpywb3w1tEcYfBZjrIVpzEG+/WtLOoi6hh/nsLXQCjD5DgLIq2cqYucgRjIQmqilMMAguJCMwMiI/RfM/WxRHY88nql4XwKu01oiqq5F946IhX+ZmcqhdQtzECEc6E1uiJqh90W+DzJGNSWqBmI4C1MvXO4hSldndYMkdPPQLCVK1HqYQBBceEy6HTkl5mkDESzW3snOriHfVaSAhuKL6Nta35qBiIWMwusLNxU72CxrINQ27j2zgnewtSegahhEXXa8HglzjYoAYRBBkI7jZoBBFEqYABBcaEpotbJQKgX6omsgYi0/ULbu54BhFVE+rurF8LMQISnnakRbhZpUB1EJz9PmgxEmDauzECkj6qGFnjappr3yXHqbncFtFuYTjOAIEoJDCAoLoxmLfhpOh4l8EI90p1o7bq4hckqIhVRq12YmIEIT/u7DP+fkFjOglADg15h2rgygEgflRFmQOg9xxoIotTAAILiImIRdZIu1NVgJUsnM8JOTNaktmbN0ZldoMlA8O8eVn1z+xahHlkZYY7UBmYNncjsNLd6AoGLwybQI1P7N+yjqYHgFqZ0caL6QuDri3t1MzwueBo1G1wQJR8DCIoLM1uYEpqBcLUHK3p3ooM7MZE11CsBRK7ORS/nQESvvrn999MjK/wWptxu7c+rgYdZwfUPwbVLnESdnk7UNAW+HtTbOIDonukIBI0ut5dBIlEKYABBcRGpiFpt45rIbkeRtjCpj7UwgLAEr1eiQc1AZIavgWhiABGWNoAIn4FQg7W6Cx3/vYarfwCCiqibWnmHOk1Em4EAgIt6chYEUSphAEFxoW3jGmkLU3JqILJ012XTPZbSV1OrB/7ryWynHQ6dgFY7B4J/93DqNFuYwmcg1OfrOpGB0MyAyAkNWjId9kAQ6PZKTcaJUteJmvYAIj9CAKGZRl13IcyRRJQIDCAoLtT6gUzdSdTJ2sIUIQPBLkyWo26d6Z6pf8HbTTOJmhef4dQ1q9vBImxh0mQgOh5AnFNafQbPgPDTbGNiK9e0cKKmPZNwcZgtTEBQHURtS5gjiSgRGEBQXKidWnIi1Bo0J3ALk2YicaR1sQuTJTREsWe/e4yKfbsCNSDTqydR5XZTAohOZCDO1rdfMPbrrj8rgJ2Y0s+J6vYaiEhbmDQZiFpmIIiSjQEExYWm1kCn642alXC5vfB6E7Nn2UwNRGfbTlJqUO+Ydze44O2pXOjWduJOeVdgrgZC2cLUiRqIM/XqsDH9dp9qBuI8A4iUV9/cGvhsZjps6NtdP7PkN6RPduDr8qqmMEcSUSIwgKC4ULeB6E2rFUJogohEFVKrHXb0aiDUO9HcR20NDS2Rt9z0VO5e1/LiM6x6EzUQagaiM12Yzii9//v30M9A9FMeP1vHLS6p7si5xsDXg/tkh3TWCnZJv5zA14fPNcRtXUQUHQYQFBfqFia9AAJITiF1fYT92+oFkXospa9oaiB6KRe6NcxAGGr1eANb++w2YfjZ9lMzFHWd+DydroucgVD3yJ9kl56Ud/hsewBxad+cMEf6XKIcc+RsIzttESUZAwiKiwsRJv8CQYXU7sQHEHrbL9THOnPHlFJHNDUQvTRzBPh3N6Ju7+qe6Yh411i7hakTGYj6yBmIfE0AwT3yqe7w2fYswqX9ukc8Pi/HGfj8Nro8mroYIko8BhAUF9oiav2LNk3rzAQVrja0hN9+wQyE9agXvUZ79nOD2o16ElSTk27UeQx5EfasA9otTJ3J7GhqIAwCiAE924twmYFIfYeVLUyX9oucgRBCaDIV6vlElHgMICgu1BoIowxE96zYTKk1o15TUBsaQGi68TCAsATNEDKDFqAOuy0QPErJ7JMRtZ1q3xz9C3mVGmRUNXTsjnGTyx343DpsQlMsrRrIQWNpRd3CdFkUAQSgzVSo5xNR4jGAoLiIpgZC2zozMRfr5rYwMYCwgir1rrlBAAGwE1M0qhrMZSDycjJha9vlVN3UqplQH63j1dphYzab/rYptQaikluYUlqrx4uDZ9q3MF0WxRYmABjWv/24vSfrYr4uIooeAwiKi2gCiGRsF4rUQSZWk3MpdVRHkYEAtHMEWAehT80iRBNA2G0CecrchnMdyEJUKC071VaewfJynHC2TRmvb3Yn7KYEmXfgdANcHl8weXGvbpoapHCuzM8NfP3lidq4rI2IosMAguJC/Y93jkHnm+6Z7RdsidoupLZm7aGzrlxmICynKtoAolv7cxxEpk+bzYm8hQnQDn7rSOHrMWXY2OAwAYQQAvm92rMQFZwVkLK+qmy/+P/WxblhjtS66uKega/3nqxDq4fDPomShQEExYW6BUTdGqJKxt3+SFuYklGXQfEVTQ0EoJ0jcIZzBHSpv5dIg7/8NPMZOhBAVJxvDwSG5hkHEIB2K8yhs5wVkKq+PK4EEPk9wxypldc9MzCxusXtxf7T9TFfGxFFhwEExYXZACIR2w2klKhtCr+u4DUlakI2xYeUUrNtJtxdc84RiOx4TfvF/KDe4S/m/dSuSafqzP9ey9WBYxF+5mX9GUCkg22HqwJff3tIL1Pnfntw+/FbD1WFOZKI4okBBMVcc6snUCyZYRfopjPxGUh8DUR9izuw7zbbadftDpVhtwUCC6/kVpZ0V3uhNVCPk+O0I7eb8eRkdY7AqToW4epRC5oH9e4W5sh2aqBxtMp855x9p9rvMo+4KHyx7TBNBoJdelLRmbpmHGgroHbabRg7tI+p878zvG/g64/2n43p2ogoegwgKOaCsw9Gw6bUGohEbBeKtoOMujXjbAdbT1JqCO7gE27wGecIhOfxSlTWtP8+L44ygFB7/B8x2bu/utEV+FtkOmyaacR61AzE1/9/e3ceLldV5nv8+1bVGThkhpCBBEhCDEQZwigoUwP9yIzdKKL21efRe29rK3ptAR9t6afbKdLiAPeittpiX7rv9Qrt1EpzBYSryBTApgEDISHMEEISEpKcoare+8daVbWrTlWdqjp16gz5fZ5nP7tq77VW7bPX2VXvWnvvtXWT7YR0y2MvF18fdeCsmsN813LyG+YWX9/71Jays8oi0jlqQEjbJRsQM2o8uAtgzt6ldcnr1MdKcgSZOXUuZRntNdsycTzfRMCbfI7Ai9vUgKj03NZdDOXCJX37Tuumr8YDIislg/5mx+5PjrSzYv50Mun6P1lvXDijOBLThs07W372hIydHz/4XPH1WW9a0HT+/WftVbyZejCb518eem6EHCIyFhr7BRBpQlkDosb9D9D5QD05gsy+dW+mLQWSakBMbs8mbsBdOKt+AyJ5ff3GV3eSzeVHDFj3JI+9UBp3/5D5jY+ckzwD8fSWXewazDbc+Lhr/ebi61WLR75WvrcrzWGLZvLA01sBuH/jFt7WQpAqY+N36zfz4DPbgPBQwHMOb61uLj52cbFx+c071nPR0YtqPmVeJiZ3J++QdyeXd/LxfS7v5OP7nDv5fCmNO+SKrz3xmkQZTi7myedjGU54nUiTr5an7HNrpKlS7oh5EmkK2xpeF7YpmYbE8nrrhpebd+fOy07rWB2qASFt93LiRslkI6HSfolAfVMHAvXk02nrbVfZJUxqQExqyVFaRnpY1cy+LubP6OWl7f0MZPNsfHVX2YOr9nS/f25b8XVyPP6R9HVneMO8aTzx8uvk8s6DT28ru469FnfnjrWla9zfunxundQlxy+ZU2xA3PzIS2pATBAbN+/k8hsfLr7/06MWse+0xoYCrvT2VftzzW3r2LRjgE07BvjAD9bw1+etZMW8kc9SFZSCwBCkFoLRyuC1FBgmArdkgFdIUzOALE/nMahMBpBVg+Nhn1X5ufGzyraPmp9bCnwTQXCi3Kp5EoFrch945edWBPrDAvTKQD4GvDK5qQEhbZcM1OfP6K2ZrvIMRD7vNZ8y2w7J3uh648knL2VJjkEvk89jiafVHrpg+ojpV8yfXhwp6LEXt6sBkXDn46Vg/piDmrvx9fgl+/DEy+HG2Vv/8HJDDYj7N27l8dgA7O1KccKyfRr6rHMOX8B1d6wHQgPik1t21T3eJ5pC8JiNAV7OnVyu1NuajUFucX3eyebz5POQzeeLywp5s/ny/KU8iXLcyeXyYZlX/4xkvvrblQ8Bcr5U3usDOR59/jWycVS76b0ZLj1jecv7aO+eDFeet5KP/PNDANz31BbOuea3pFNh0I50ykgZwwLzZGArIqOjBoS0XfIMRHJozEq9XWmm92bY0Z8lm3e27R6qO07/aD3TYAMi2VPd7DXbMnG8tmuoeNmNGbxxwcjjzR+xeFZxZJffPPEK5x+xcEy3cbK484lXiqMhdWdSnNhgMF9w5sp5/M97ngbgxgee48yV81gxfzpps2JQN5TLs2swy67BHC9s282Xbl5bzH/e4QuZVuOBlJVWLpjBEYtn8e/PbmMwm+eS79zD+UcsZHZfN2aU99TmqwfWuYogeXhgnS8PxN3J5hJ5agXqw/LkyXt54D/VY9vudIqvX3xk8XkOrTr38IU8u2U3V92yttibncu7nkA+iZhB2oyUGalU8rUVG4GpuCydCmlSZiFdYn1IW1qWXF9cZ+VlJvOkC5+TKpRd8bmWKCvxGRbXp1NW/FvC61Bm8XXNz43LU4XPIuYtfWbNdSmG/U2pOoOEjAU1IKTtkiPYzKtzBgJCb/+O/tAz+cyWXWPagNhQNp587R+vpXoY1ZTwy0deLAZjhy+axcy+ka+RPm3FXK65bR0A//boS1xx1iEtXWZRFjAWg9B8WYBamueLwWfhdTauz8Ze4VzeGcrF/MX1pXxD+Ty5nDOU99Dzm/Nh+YZyYd1QvhQUF7apWHay/LhsMJcvuxn9giMW1ny6fC1vPXhfls3dm/Wv7OT1gSzv+e69Deft7Upx6emN91abGVeeeyjv/PY95PLOc1t3F89IyPg6bskcPn32oWXPchiND526jOOXzuH7d23k3g2vNn0pbDoGcWal15WBZyngSwamw9MOCxotEViWBbFUDSCTwfPwwJfyz03mSVWUmwwqa2zrsG2p2Nby4Hh44DpyUD480K+Wp96oeDLxqQEhbZccf/2gEZ4cu3y/6cVLG554eUfbflgq7egfKjYGUhYuVall8ey96M6kGMzmeXn7AC++tpsFM0fXW7YnysfANpsLQelgLl8MeodiYDyUKwS7eQazXnP9UC4EvtnC+2K5YflQtjx9fzbHrYnhIs89rLHr4I9YNIul++7Nhs072dGf5aQv/5oFM3tJp6x4ze+wBkAMtJOXckzV63tn93Xxl3+8oul8qZTxlXccwbu/cy+7h3IN5+vOpPjGu1Y1fQnS0QfO4dpLVnHFTQ935Bkz7VYI4gq9m+mUkYm9n5kYiGXSNixdJlWeJ0ypUp5a5SXzmpFOh3n5uhTpFGFukE6HcutuZ5xnUikO3m9a3XvPWnXUAbM56oDZAAxkwzOIsrlwhqfUY1zqWU4G6iLSOjUgpK0Gs3nWbyr12i+fV/+68+XzpsF/hNfJUV7a7d4NW4pB3RvmTa87CkwmneK4g+bw2yfDCDC3r93Ee44/sO3blLzWOdnbXAioi/O4rLwnuRRE5/J5hnI1eq8TvcmVvdPFZblkWYnPKdumatuWWF7RQz6Uz0+YIHrejB4uPm5xQ2lTKePTZx/KB/9xDQC7h3JlZ672ZMctmcMXLnxT3csS61l1wGx+/tG3cN0d6/n9M9vYEh/SmDLDCA9x7OtO09eTZlpPhiMXz+aS4xZz4D71n/1Qy9mHLeDEZftwx+OvsGHzTl7vz2JG6XR/sWc0FYLl9PAguzIwTqfKg/ZSnhSpFGRSqfJAuk6gn6osM5FGPbOt6cmk6ck091wJEWmNGhDSVmue3lJ82vMBc/qKT3WupdBzBOHmyr8659C6o2gUgu7BXJ6BoTyDuTyD2TwD2RwD2TwD2cL70vL+oTzfv+upYhmnrBh5NJdTV8wtNiC+9Mu13LNhS/GmvFyNgH+oIgBPBtWFAL8QrBeWydhaOLOXb//ZMXWfR1LpjJXzuPaSVay+eW3ZpTvN6qoISDPpVM3AMpNO0RXfd8UgNJMu9fwW1yXKCOtjL3A6kS9+ViZRRiZdZV1lGcPypYr5Z/R2MbsNlxcevN90vvrOI0ddTqNm9XVz4ar9O/Z5IiJ7CvNx6iY0M4cQEErn5fJeDLALAXch6A7BeS4RnMfl2TwD9dZlc9z15KvFoOu9bz6Az194WN3tGMjmOOZzt7Ij3vg2q6+L2X3d4ZKV3PDLWUYbdKdTxi0fP3nE0XW29w9xylW/ZquecjoqXYlAtCsGyZkYEBeC1a50XJ9K0ZVJrE/kKwS+3YV8MX1yfbH8+H7u9B5OWLZPyz2S7s6mHQPs6M+Sy3vx8o1isD2shzpV1rssIiLSYR378VEDooPyiZ7zgVyuogc9XxbQVy4byA5PW5Y+0SNf1hgo5K1IM9bD2JnBLy89iUMXjDxe/LW3rePqXz0xpttT8KmzDuHPT1nWUNr7ntrCh//pATa/PnZPyU4ZZT29yaA62QudSfRCl3qrU3SlSj3TmUQPdmV5yZ7mZG93sje68JmF4D3Zq50MzMvLSgT6MU+hrJRukhMREekkNSDayT1cLtKfzdE/FAL3wqUttS59qeydr+yZD42AZJ5cRd7hZWTHOGifKMzgM2cfygdPWtpQ+lzeueqWtfzgdxvpH8qPmD5l4ebKnkw6zlPD3vdULJ/Rm+HswxZw/NLmhp/sH8qxZuNWNu3ojyNUlK6XHn45SCmoLgbjxUC8dBlJVyIAV0+1iIiItMme04B45tWd9A+FYL4/G4L7/qFcDPbD64FsnA/l6C++zhcbBP3FPCHAL6QvrBvI5qb82NrNMgvjcRcC7FKwHebd6RQ9XamyNN0V63qqrOvJpDhy8ayyoVAbNZDNsWn7AAPZPN2xRz2Ttvi6vGdeRERERMrsOQ2IA6/413H5/PFS3kOerhGsVw/MuzO1g/ZSOemycmqVldFIHyIiIiJTSccCuz1mFKZMyujtStPbFYLp5DwE1uW98D01AvKagX0xT7pmY6ArraBdRERERCa3cW9A7D9rL3q6UvTGYD4E+SGYLw/4S+uT63rjup5Eg6BQRm+mlL7e0KAiIiIiItKYcb+EaU8ahWkyKZwpUf1MPKqbiU31M7GpfiYu1c3EpvqZ2BL105FLXdQtLyIiIiIiDVMDQkREREREGqYGhIiIiIiINEwNCBERERERaZgaECIiIiIi0jA1IEREREREpGFqQIiIiIiISMPUgBARERERkYaN+4PkRERERERk9PQgORERERERmXDG7QyEiIiIiIhMPjoDISIiIiIiDVMDQkREREREGtbWBoSZdZnZ6WZ2tZmtMbPtZjZoZs+b2Y1mduoI+d9tZr8xs9fM7PVYxl+YmRo6Y8TMvmhmHqdP1kmnuukQM9vLzC43s/vNbJuZ7TKzp8zsR2b2lirpU7Eu1sS6eS3W1SXjsf1TmZktMrNrzexxM9ttZv1mts7MvmVmS+vk0/EzSma2wsw+ZmY3mNlaM8vH762LGsjb0v43s7eZ2f81sy3xOHzEzD5jZj3t+8umhmbrZ7TxQixDx1UDRnPsVJTTULwQ06puGjTK77am4oWYpz0xg7u3bQLOADxOLwL/CvwQ+I/E8r+tkfd/xPW7Y74fA9vjsn8BUu3cVk0OcCyQBfJxP39SdTPudbIEWBf37QtxX/8IuA8YAv6qIn0a+GlM/1qsj18A/XHZN8b7b5oqE7AK2Br367PAT+L0XFy2AzixSj4dP+3Z/19P/I4kp4tGyNfS/gcuj2mywK3xONwUl90N9I33PplIU7P1M5p4YTT1uidOrR47FWU0FC+objpXPzQZL8Q8bYsZ2r0T/gi4ETipyrqL4z+fA6dVrPvTxJfI8sTyecBjcd3HxruSp9IE9MR9+3z8p6v6haC66Wid7A08Gb+grwDSFev3Ad5QsewvYx08CsxLLF8OvBTXXTDef9tUmIDfxf3590BXYnkX8L247t8r8uj4ad/+/yBwFfBOYBlwx0g/sq3uf+CYeBzuBI5PLJ8G3BnzfW2898lEmpqtn1bjhdHU6546tXLsVORvKF5Q3XSufmghXojL2xYzdHonfTdu3Pcqlq+Jy/9TlTynJP4Z1WptX118Oe7X84Dra30hqG46Widfivvz2gbTp4GXY56Tq6x/X1x333j/bZN9Anop9QotqLJ+QWJ9X2K5jp+xq5NGfmRb2v+EwNaBK6vkWwrkgAFg1njvh4k6NVI/I+SvGi+Mpl41tVY3jcYLqpvO1U+z8ULM09aYodPXoj0U54sKC8xsEXA0MEg49VLG3e8ktHrnA2/uwDZOeWZ2PKEV+s/u/vM66VQ3HWJm3cB/jm+/2mC2E4D9gOfc/f9VWf8jwmnMY81s/9Fv5R4tR+gRHclOwml7HT/jrNX9H4/Fs+Lbf6qSbwPhEqZu4Oy2b7gUDIsXQMdVpzUaL8S0qpsOaDFegDbHDJ1uQCyP8xcTy1bF+aPuvrtGvvsr0kqLzKwX+AGwBfjYCMlVN51zNOGU4/Pu/pSZHWVmnzOzb5vZ35rZW6vkKezz+6usw913EU5TAhzZ/k3ec7j7EHCqMMY+AAALHElEQVRbfPs3ZtZVWBdffy6+/Z7Hrhx0/Iy3Vvf/CqAP2OLu65vIJ+1VLV4AHVcd02S8AKqbTmklXoA2xwyZZre6VWY2H3h/fHtTYtWSOH+6TvZnKtJK675A+IF8l7tvHiGt6qZzDovz583sK4Qen6TPmtlPgPe6+864rNH6ORLVTzt8GPg3Qs/PWWa2Ji4/FphNuBHu8kR6HT/jq9X9v6RiXaP5pE3qxAug46qTmokXQHXTKa3EC9DmmKEjZyDMLAPcAMwEbqs4DTYtzncOy1jyepxPH4PN22OY2YnAx4GfuPsPG8iiuumcOXG+ivBl8HXgYEJgegHhtO+FwHWJPKqfDoqXrpwI3Ey4rOLCOO1PuDnwN/FMRYHqZ3y1uv9Vb+NohHgBVD8d0UK8AKqbTmklXoA210+nLmH6FnA6YejD93boMyXBzPYi3Py0ndCTKhNL4VjsAm5w9//m7uvdfZu7/4zwZeDAn5nZsnHbyj1Y/EF9hPBFfQEwN04XEr64bzKzK8dvC0WmBMUL40zxwoQ3IeKFMW9AmNk3gA8Qhoc63d1fqkhSaO3sXaeYQqtpR5s3b0/yRcI1pZ9w98prSmtR3XROcv99p3Klu68BHgCMMJIFqH46xsxmEZ75MB14m7v/zN03x+mnwNsIN09/1swK126rfsZXq/tf9TZOGogXQPXTCa3EC6C66ZRW4gVoc/2M6T0QZnY1cCnwCuHLYF2VZBvj/MA6RS2uSCvNezthvOD3mdn7KtYdEucfMrNzgSfd/YOobjrpqRqvK9McQxjBAlQ/nXQO4WzD7fFSpjLu/qSZ3QucGqd1qH7G28Y4b3b/F14f0GQ+GYUG4wXQcdUJrcQLoLrplFbiBWhz/YxZA8LMrgI+AbwKnOHuj9VIWhiq7Y1mtleNO/ePrUgrrUlR3hqttDROs+J71U3nJPffPoTT95X2jfNCL8KDcX5slbSYWR/wpirlS/MKweRrddJsi/PC9ak6fsZXq/t/LeFs0hwzW1ZjJKbjquSTFjURL4COq05pNl4A1U2ntBIvQJtjhjG5hMnMVgOXAVuBM9394Vpp3f1Zwh/VDbyjSlmnEG5YfIkw9ra0wN0PcnerNhGGaQO4LC47MuZR3XSIuz8P3Bvfnl653sxmA0fFt4XRf+4m9NYtMrOTqxT7DsI1kvfH8qV1L8T50ckhXAvisqPj26dAx894a3X/u/sg4UZ5gPdUybeUMJ76IPCLtm/4HqaZeAF0XHVCK/FCzKe66YAW4wVoc8zQ9gaEmX2e8FjtbYQvg0ZamV+K8y+b2cGJsvajdBf5anfPt3VjpRGqm875Qpx/2syOKSyMY3F/kzAqyQPEL153zwFXxWTfjHVSyLMcWF1RrrTuZmAX4UzE18ysp7Aivr6GcOp3K3BLIp+On/HV6v5fTbgJ8QozOy6RbxrwD4TfzuvcfRvSshbjBdBxNZGpbjqjqXgB2h8zWOmZR6NnZucDP41v11B6IEWlte6+OrnAzK4DPgT0A7cSnoZ3OjCDcPPiRfGPlzYzs+sJjzC/zN2/UmW96qZDEmM6DwH3EE7pHwcsJAzNdlry2mAzSwM/Bs4jjJhxG6EH4Qygl/CY+0s7+TdMVfFa4O8BacIZicLp4KOBBcAAYbz0n1Tk0/HTBmZ2FOXDEq4k3NS+jvCgKwDc/c0V+Vra/2Z2OfBlwlPIbycEuacQnuR6L/BH8cFLQvP1M5p4IebXcdWgVo+dGmVdT514IaZR3TRhFN9tTcULMU/7YgZ3b9tEePCLNzDdUSP/u4G74h+1k9B6+gsg1c7t1DRsv18f6+WTddKobjpXH39CCFi2EoLSdcDVwNwa6VPAR2Kd7Ix19Fvg3eP9t0y1iXBa+B8Jlyn1x2k98F1gZZ18On5Gv+9PbeT3pZ37nzC61q/isbibEOR+BugZ7/0x0aZm62e08cJo6nVPm0Zz7FQpa8R4QXXTufqhyXgh5mlLzNDWMxAiIiIiIjK1depBciIiIiIiMgWoASEiIiIiIg1TA0JERERERBqmBoSIiIiIiDRMDQgREREREWmYGhAiIiIiItIwNSBERERERKRhakCIiIiIiEjD1IAQEREREZGGqQEhIjKJmFmXmZ1uZleb2Roz225mg2b2vJndaGanNlDGEWZ2g5m9YGb9ZvaEmX3KzFr6TTCzN5tZ3sxWV1lnZvZ3ZvaKmf3BzE6ukqbPzF40s/vNzFrZBhER6Rxz9/HeBhERaZCZnQH8Kr59CXgA2AmsBN4Ul3/O3a+skf+jwNeA3cAdwBBwJjAN+Ja7f6jJ7THgXmA5sNTdt1asvxj4r8D5cRtvApa7e39Fuo8A1wLvd/cfNLMNIiLSWToDISIyueQJQfjJ7r7A3c9194vd/TDgXUAO+KyZnVaZ0czeD1wD/JoQ7J/n7n8CHAnsAP7czJY3uT2XAMcC11Y2HqJVwI3u/rq730do9BxYJd3fx3VfNLPuJrdBREQ6SA0IEZFJxN1vd/eL3P03Vdb9ELg+vn1vcp2ZHQBcBzwOXODuryTyrSc0SgDObnKTPg448A811q8BLjGzuWZ2CrAfsLHKtg8CNwALgXc0uQ0iItJBakCIiEwtD8X5oorlfwPsBVzh7ruq5NsU50sa/SAzO5Zw9uFOd99YLY273wjcDtwHXAVc7O4DNYosXLr04Ua3QUREOk8NCBGRqaVwCdKLhQVmNodwqdFTwM9q5Nu7hc+6MM5vrZfI3f/a3Ze4+/Hufk+ddI8ALwMnmNncFrZHREQ6IDPeGyAiIu1hZvOB98e3NyVWvR3oIdw/8f0aAx2dFOfV7mOo5dQ4v7uJPCO5m9AwOQ34P20sV0RE2kQNCBGRKcDMMoR7CGYCt7n7zxOrz4jzZXGq5/EmPvbIOP9DE3lG8hihAbEKNSBERCYkXcIkIjI1fAs4HXiWihuoCfcpQBh5ySon4IBE2vsa+TAz2xvoi29fHcV2V9oS5/PaWKaIiLSRGhAiIpOcmX0D+ABhGNTT3f2lxLpuSjdGP1ejiDPjfIO7b2jwY2fG+UAcQaldtsf5rDaWKSIibaQGhIjIJGZmVwOXAq8QGg/rKpLMJHzX97v7UI1iCsOm/u8mPnpbnPe0+bkNM+K8mXsxRESkg9SAEBGZpMzsKuAThEuIznD3x6ok8zjvsip3T8cHx/0xMAh8p9HPjkPB7oxv92lmu0dQKGtT3VQiIjJu1IAQEZmEzGw1cBmhp/5Md3+4Wjp33wy8DqSBQ6ok+Srht+C/13qWQx0PxvnKJvPVUyjrwbqpRERk3KgBISIyyZjZ54ErCJcRnenuD42Q5RdxfmXhLISZpc3sq8C5wO+Bz7SwKb+O8xNayFvLCYSzJne0sUwREWkjc/eRU4mIyIRgZucDP41v1wCP1ki61t1XxzyHAA8QRk16hDBU6rGEm6vXAGe7+ystbMsqwpmCO9391GbzVynvMOBh4Hfu/pbRliciImNDz4EQEZlc5iReHxOnau4EVgO4+1ozeyvwRUIP/xLCsxu+BnzT3bOtbIi7P2Rm9wAnm9lBLVwCVel9cX7dKMsREZExpDMQIiLSMjN7F/C/gM+5+5WjKKcbeJrwtOwlbR4aVkRE2kj3QIiIyGj8kPDwuY+a2exRlPNfgPnAp9V4EBGZ2HQGQkRERsXMjgfuBq5y90+1kL8PWE940N1xrh8mEZEJTQ0IERERERFpmC5hEhERERGRhqkBISIiIiIiDVMDQkREREREGqYGhIiIiIiINEwNCBERERERaZgaECIiIiIi0jA1IEREREREpGFqQIiIiIiISMP+P0ZMKenG9iWxAAAAAElFTkSuQmCC\n",
        "metadata": {
         "needs_background": "light",
         "tags": []
        },
        "output_type": "display_data",
        "text/plain": "<Figure size 936x360 with 1 Axes>"
       }
      ]
     }
    },
    "4a2a6387ef6242e58379fea53f2f9c3c": {
     "model_module": "@jupyter-widgets/controls",
     "model_name": "SliderStyleModel",
     "state": {
      "_model_module": "@jupyter-widgets/controls",
      "_model_module_version": "1.5.0",
      "_model_name": "SliderStyleModel",
      "_view_count": null,
      "_view_module": "@jupyter-widgets/base",
      "_view_module_version": "1.2.0",
      "_view_name": "StyleView",
      "description_width": "150px",
      "handle_color": null
     }
    },
    "4edfbe8c79424bd4b1e4a2c6d07b8855": {
     "model_module": "@jupyter-widgets/base",
     "model_name": "LayoutModel",
     "state": {
      "_model_module": "@jupyter-widgets/base",
      "_model_module_version": "1.2.0",
      "_model_name": "LayoutModel",
      "_view_count": null,
      "_view_module": "@jupyter-widgets/base",
      "_view_module_version": "1.2.0",
      "_view_name": "LayoutView",
      "align_content": null,
      "align_items": null,
      "align_self": null,
      "border": null,
      "bottom": null,
      "display": null,
      "flex": null,
      "flex_flow": null,
      "grid_area": null,
      "grid_auto_columns": null,
      "grid_auto_flow": null,
      "grid_auto_rows": null,
      "grid_column": null,
      "grid_gap": null,
      "grid_row": null,
      "grid_template_areas": null,
      "grid_template_columns": null,
      "grid_template_rows": null,
      "height": null,
      "justify_content": null,
      "justify_items": null,
      "left": null,
      "margin": null,
      "max_height": null,
      "max_width": null,
      "min_height": null,
      "min_width": null,
      "object_fit": null,
      "object_position": null,
      "order": null,
      "overflow": null,
      "overflow_x": null,
      "overflow_y": null,
      "padding": null,
      "right": null,
      "top": null,
      "visibility": null,
      "width": null
     }
    },
    "50b48399039d4ff097457e4637cd248e": {
     "model_module": "@jupyter-widgets/controls",
     "model_name": "FloatSliderModel",
     "state": {
      "_dom_classes": [],
      "_model_module": "@jupyter-widgets/controls",
      "_model_module_version": "1.5.0",
      "_model_name": "FloatSliderModel",
      "_view_count": null,
      "_view_module": "@jupyter-widgets/controls",
      "_view_module_version": "1.5.0",
      "_view_name": "FloatSliderView",
      "continuous_update": true,
      "description": "Lattice constant (nm)",
      "description_tooltip": null,
      "disabled": false,
      "layout": "IPY_MODEL_1d6a8cb2f29f453ba52011838c3c1b5a",
      "max": 0.45,
      "min": 0.25,
      "orientation": "horizontal",
      "readout": true,
      "readout_format": ".3f",
      "step": 0.001,
      "style": "IPY_MODEL_4a2a6387ef6242e58379fea53f2f9c3c",
      "value": 0.352
     }
    },
    "619ca8ba88704961a09264e86521636a": {
     "model_module": "@jupyter-widgets/controls",
     "model_name": "IntSliderModel",
     "state": {
      "_dom_classes": [],
      "_model_module": "@jupyter-widgets/controls",
      "_model_module_version": "1.5.0",
      "_model_name": "IntSliderModel",
      "_view_count": null,
      "_view_module": "@jupyter-widgets/controls",
      "_view_module_version": "1.5.0",
      "_view_name": "IntSliderView",
      "continuous_update": true,
      "description": "Temperature (K)",
      "description_tooltip": null,
      "disabled": false,
      "layout": "IPY_MODEL_1d6a8cb2f29f453ba52011838c3c1b5a",
      "max": 1000,
      "min": 0,
      "orientation": "horizontal",
      "readout": true,
      "readout_format": "d",
      "step": 1,
      "style": "IPY_MODEL_f1518c712ed944b9ad3612d8d59d5a48",
      "value": 298
     }
    },
    "66f1bf86bc934aa0b57ed22be756338c": {
     "model_module": "@jupyter-widgets/controls",
     "model_name": "ButtonModel",
     "state": {
      "_dom_classes": [],
      "_model_module": "@jupyter-widgets/controls",
      "_model_module_version": "1.5.0",
      "_model_name": "ButtonModel",
      "_view_count": null,
      "_view_module": "@jupyter-widgets/controls",
      "_view_module_version": "1.5.0",
      "_view_name": "ButtonView",
      "button_style": "",
      "description": "Run Interact",
      "disabled": false,
      "icon": "",
      "layout": "IPY_MODEL_cdbc72de674b47e19cb15a83e8b7f500",
      "style": "IPY_MODEL_798465372313482b96240284bf1af9fc",
      "tooltip": ""
     }
    },
    "798465372313482b96240284bf1af9fc": {
     "model_module": "@jupyter-widgets/controls",
     "model_name": "ButtonStyleModel",
     "state": {
      "_model_module": "@jupyter-widgets/controls",
      "_model_module_version": "1.5.0",
      "_model_name": "ButtonStyleModel",
      "_view_count": null,
      "_view_module": "@jupyter-widgets/base",
      "_view_module_version": "1.2.0",
      "_view_name": "StyleView",
      "button_color": null,
      "font_weight": ""
     }
    },
    "8b2331bc3a78449c8d1dfac0c31e4402": {
     "model_module": "@jupyter-widgets/controls",
     "model_name": "FloatSliderModel",
     "state": {
      "_dom_classes": [],
      "_model_module": "@jupyter-widgets/controls",
      "_model_module_version": "1.5.0",
      "_model_name": "FloatSliderModel",
      "_view_count": null,
      "_view_module": "@jupyter-widgets/controls",
      "_view_module_version": "1.5.0",
      "_view_name": "FloatSliderView",
      "continuous_update": true,
      "description": "X-ray wavelength (nm)",
      "description_tooltip": null,
      "disabled": false,
      "layout": "IPY_MODEL_1d6a8cb2f29f453ba52011838c3c1b5a",
      "max": 0.2,
      "min": 0.07,
      "orientation": "horizontal",
      "readout": true,
      "readout_format": ".3f",
      "step": 0.001,
      "style": "IPY_MODEL_3f22376ce5a34fc8ba8c9e84ce3fb3b9",
      "value": 0.154
     }
    },
    "93b976efb630471ba22ef18734a8171a": {
     "model_module": "@jupyter-widgets/controls",
     "model_name": "VBoxModel",
     "state": {
      "_dom_classes": [
       "widget-interact"
      ],
      "_model_module": "@jupyter-widgets/controls",
      "_model_module_version": "1.5.0",
      "_model_name": "VBoxModel",
      "_view_count": null,
      "_view_module": "@jupyter-widgets/controls",
      "_view_module_version": "1.5.0",
      "_view_name": "VBoxView",
      "box_style": "",
      "children": [
       "IPY_MODEL_50b48399039d4ff097457e4637cd248e",
       "IPY_MODEL_8b2331bc3a78449c8d1dfac0c31e4402",
       "IPY_MODEL_3e229d8ef5d54652a8569f4ac54dca48",
       "IPY_MODEL_2ac47c577f6d47bb85873c4e08022b80",
       "IPY_MODEL_619ca8ba88704961a09264e86521636a",
       "IPY_MODEL_66f1bf86bc934aa0b57ed22be756338c",
       "IPY_MODEL_45f1c8b611b744bf8bb601c11a402a1f"
      ],
      "layout": "IPY_MODEL_2a389b9e6ff54510868407cd750c6cb0"
     }
    },
    "cdbc72de674b47e19cb15a83e8b7f500": {
     "model_module": "@jupyter-widgets/base",
     "model_name": "LayoutModel",
     "state": {
      "_model_module": "@jupyter-widgets/base",
      "_model_module_version": "1.2.0",
      "_model_name": "LayoutModel",
      "_view_count": null,
      "_view_module": "@jupyter-widgets/base",
      "_view_module_version": "1.2.0",
      "_view_name": "LayoutView",
      "align_content": null,
      "align_items": null,
      "align_self": null,
      "border": null,
      "bottom": null,
      "display": null,
      "flex": null,
      "flex_flow": null,
      "grid_area": null,
      "grid_auto_columns": null,
      "grid_auto_flow": null,
      "grid_auto_rows": null,
      "grid_column": null,
      "grid_gap": null,
      "grid_row": null,
      "grid_template_areas": null,
      "grid_template_columns": null,
      "grid_template_rows": null,
      "height": null,
      "justify_content": null,
      "justify_items": null,
      "left": null,
      "margin": null,
      "max_height": null,
      "max_width": null,
      "min_height": null,
      "min_width": null,
      "object_fit": null,
      "object_position": null,
      "order": null,
      "overflow": null,
      "overflow_x": null,
      "overflow_y": null,
      "padding": null,
      "right": null,
      "top": null,
      "visibility": null,
      "width": null
     }
    },
    "f1518c712ed944b9ad3612d8d59d5a48": {
     "model_module": "@jupyter-widgets/controls",
     "model_name": "SliderStyleModel",
     "state": {
      "_model_module": "@jupyter-widgets/controls",
      "_model_module_version": "1.5.0",
      "_model_name": "SliderStyleModel",
      "_view_count": null,
      "_view_module": "@jupyter-widgets/base",
      "_view_module_version": "1.2.0",
      "_view_name": "StyleView",
      "description_width": "150px",
      "handle_color": null
     }
    }
   }
  }
 },
 "nbformat": 4,
 "nbformat_minor": 1
}
