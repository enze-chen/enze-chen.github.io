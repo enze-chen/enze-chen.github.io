{
 "cells": [
  {
   "cell_type": "markdown",
   "metadata": {},
   "source": [
    "# X-ray diffraction (XRD) interactive plot\n",
    "\n",
    "*Author: Enze Chen, University of California, Berkeley*\n",
    "\n",
    "This is an interactive notebook for playing around with some experimental parameters ($a$, $\\lambda$, $T$, etc.) and observing the effect on the resulting XRD spectra. I find XRD to be a particularly beautiful subject and I couldn't find any similar visualizations online. I hope this interactive demo will help you learn the _qualitative trends_ associated with powder XRD spectra. Please don't hesitate to reach out if you have questions or ideas to contribute.\n",
    "\n",
    "To use this notebook, run all the cells (`Run All` in the menu or `Shift+Enter` for every cell) and then adjust the widgets at the very end.\n",
    "\n",
    "## Acknowledgements\n",
    "\n",
    "I would like to thank Prof. Andrew Minor for teaching MATSCI 204: Materials Characterization and my advisor Prof. Mark Asta for his unwavering encouragement. Interactivity is enabled with the [`ipywidgets`](https://ipywidgets.readthedocs.io/en/stable/) library. You can view an interactive version at [Google Colaboratory](https://colab.research.google.com/github/enze-chen/enze-chen.github.io/blob/master/files/XRD_widget.ipynb) or the `xrdinteract` tool on [nanoHUB](https://nanohub.org/tools/xrdinteract/)."
   ]
  },
  {
   "cell_type": "markdown",
   "metadata": {},
   "source": [
    "## Important equations\n",
    "\n",
    "The most important equation is Bragg's law, given by \n",
    "\n",
    "$$n\\lambda = 2d \\sin(\\theta)$$\n",
    "\n",
    "where $n$ is the order (typically $1$), $\\lambda$ is the wavelength, $d$ is the interplanar spacing, and $\\theta$ is the Bragg angle. In creating the interactive widget, we will need to solve for $\\theta$ as follows:\n",
    "\n",
    "$$ \\lambda = 2d \\sin(\\theta) \\longrightarrow \\theta = \\sin^{-1} \\left( \\frac{\\lambda}{2d} \\right), \\quad d = \\frac{a}{\\sqrt{h^2 + k^2 + l^2}} $$\n",
    "\n",
    "where $h,k,l$ are the miller indices of the diffracting plane and $a$ is the lattice constant. \n",
    "\n",
    "Another important equation is the intensity, given by\n",
    "\n",
    "$$ I = |F|^2 \\times P \\times m \\times L \\times A \\times T $$\n",
    "\n",
    "where\n",
    "* $F$ is the Structure factor.\n",
    "* $P$ is the Polarization factor.\n",
    "* $m$ is the Multiplicity factor.\n",
    "* $L$ is the Lorentz factor.\n",
    "* $A$ is the Absorption factor.\n",
    "* $T$ is the Temperature factor.\n",
    "\n",
    "Furthermore, size effects can be included through the Scherrer equation, given by \n",
    "\n",
    "$$ t = \\frac{K\\lambda}{\\beta \\cos(\\theta)} $$ \n",
    "\n",
    "where $t$ is the thickness, $K \\sim 0.9$, and $\\beta$ is the FWHM of the peak in radians.\n",
    "\n",
    "For more information, please reference [Elements of X-Ray Diffraction (3rd) - Cullity and Stock](https://www.pearson.com/us/higher-education/program/Cullity-Elements-of-X-Ray-Diffraction-3rd-Edition/PGM113710.html)."
   ]
  },
  {
   "cell_type": "markdown",
   "metadata": {},
   "source": [
    "### Assumptions I've taken great liberties with\n",
    "\n",
    "* For the structure factor, I greatly oversimplified the construction of the atomic scattering factor and selected some numbers that more or less came from the data for iron since it has both BCC and FCC structures.\n",
    "* I also combined part of the Temperature factor into the structure factor. \n",
    "* I assumed uniform strain with a positive thermal expansion coefficient.\n",
    "* I combined the Lorentz and Polarization factors, as is commonly done in the literature.\n",
    "* Like any good computationalist (jk), I threw out most constant factors. Therefore, I ignored the absorption factor since it is more or less independent of $\\theta$.\n",
    "* I used a $\\sqrt[3]{\\theta}$ term to approximate the thermal background's general shape. I don't know the actual dependence, if there is one.\n",
    "* It only models FCC and BCC structures with single-atom bases. I think it's enough to get the trends, as calculations for specific materials can be found online (e.g. at [The Materials Project](https://materialsproject.org/)).\n",
    "* I used a Gaussian distribution to model each peak so that I could capture crystallite size effects using the Scherrer equation. Peaks in general are not Gaussian.\n",
    "\n",
    "### Known issues\n",
    "\n",
    "* It doesn't have great safeguards against numerical errors, such as invalid `arcsin` arguments (e.g. if $\\lambda$ is large and $d$ is small) and floating-point errors. Please be gentle. ❤\n",
    "* There's a weird rendering error where for large intensities the upper limit (`1e6` for me) appears on the y-axis. **shrug**"
   ]
  },
  {
   "cell_type": "markdown",
   "metadata": {},
   "source": [
    "## Python package imports\n",
    "\n",
    "These are all the required Python packages."
   ]
  },
  {
   "cell_type": "code",
   "execution_count": 1,
   "metadata": {},
   "outputs": [],
   "source": [
    "# General libraries\n",
    "import itertools\n",
    "\n",
    "# Scientific computing libraries\n",
    "import numpy as np\n",
    "import scipy.stats as stats\n",
    "import matplotlib.pyplot as plt\n",
    "%matplotlib inline\n",
    "\n",
    "# Interactivity libraries\n",
    "from ipywidgets import interact_manual, fixed, \\\n",
    "                       IntSlider, FloatSlider, FloatLogSlider, RadioButtons, \\\n",
    "                       Button, Layout"
   ]
  },
  {
   "cell_type": "markdown",
   "metadata": {},
   "source": [
    "## Widget function\n",
    "\n",
    "This function handles all the calculations."
   ]
  },
  {
   "cell_type": "code",
   "execution_count": 2,
   "metadata": {},
   "outputs": [],
   "source": [
    "def plot_XRD(a, wavelength, cell_type, thickness, T=0, K=0.94):\n",
    "    \n",
    "    # Crystallographic planes\n",
    "    planes = [[1,0,0], [1,1,0], [1,1,1], [2,0,0], [2,1,0], [2,1,1], [2,2,0],\\\n",
    "              [2,2,1], [3,0,0], [3,1,0], [3,1,1], [2,2,2], [3,2,0], [3,2,1]]\n",
    "    planes_str = ['(100)', '(110)', '(111)', '(200)', '(210)', '(211)', '(220)',\\\n",
    "                  '(221)', '(300)', '(310)', '(311)', '(222)', '(320)', '(321)']\n",
    "\n",
    "    # Set the basis\n",
    "    basis = []\n",
    "    if cell_type is 'FCC':\n",
    "        basis = np.array([[0,0,0], [0.5,0.5,0], [0.5,0,0.5], [0,0.5,0.5]])\n",
    "    elif cell_type is 'BCC':\n",
    "        basis = np.array([[0,0,0], [0.5,0.5,0.5]])\n",
    "    else:\n",
    "        raise ValueError('Cell type not yet supported.')\n",
    "\n",
    "    # Convert planes to theta values (see equation above)\n",
    "    s_vals = np.array([np.linalg.norm(p) for p in planes])\n",
    "    a += 5e-5 * T  # thermal expansion estimate\n",
    "    theta = np.arcsin(np.divide(wavelength/2, np.divide(a, s_vals)))\n",
    "    two_theta = 2 * np.degrees(theta)\n",
    "\n",
    "    # Scherrer equation calculations\n",
    "    beta = np.degrees(K * wavelength / thickness * np.divide(1, np.cos(theta)))\n",
    "    sigma = beta / 2.355  # proportionality for Gaussian distribution\n",
    "\n",
    "    # Structure-Temperature factor. Must... resist... for loops...\n",
    "    s = np.sin(theta) / wavelength\n",
    "    f = 26 - 41.8 * 7 * np.multiply(s**2, np.exp(-(s)**2))\n",
    "    F = np.multiply(f, np.sum(np.exp(2 * np.pi * 1j * \\\n",
    "                                     np.dot(np.array(planes), basis.T)), axis=1))\n",
    "\n",
    "    # Multiplicity factor\n",
    "    mult = [2**np.count_nonzero(p) * \\\n",
    "            sum(1 for _ in set(itertools.permutations(p))) for p in planes]\n",
    "\n",
    "    # Lorentz-Polarization factor\n",
    "    P = np.divide(1 + np.cos(2 * theta)**2, np.multiply(np.sin(theta)**2, np.cos(theta)))\n",
    "\n",
    "    # Final intensity (numpy hacks)\n",
    "    factors = [np.absolute(F)**2, mult, P]\n",
    "    I = np.prod(np.vstack(factors), axis=0)\n",
    "    \n",
    "    # Plotting\n",
    "    plt.rcParams.update({'figure.figsize':(10,5), 'font.size':22})\n",
    "    xmin, xmax = (20, 160)\n",
    "    fig, ax = plt.subplots()\n",
    "\n",
    "    # Create x-axis points\n",
    "    x = np.linspace(xmin, xmax, int(5e4))\n",
    "    thermal_diffuse = 1e2 * T * np.cbrt(x)  # THIS FUNCTIONAL DEPENDENCE IS NOT REAL!!!\n",
    "                                            # Chosen just to get general shape of background\n",
    "    \n",
    "    # Save all the curves, then take a max envelope\n",
    "    all_curves = []\n",
    "    for i in range(len(sigma)):\n",
    "        y = stats.norm.pdf(x, two_theta[i], sigma[i])\n",
    "        normed_curve = y / max(y) * I[i]\n",
    "        # Don't include the curves that aren't selected by the Structure factor\n",
    "        if max(normed_curve) > 1e1:\n",
    "            max_ind = normed_curve.argmax()\n",
    "            ax.annotate(s=planes_str[i], \\\n",
    "                        xy=(x[max_ind], normed_curve[max_ind] + thermal_diffuse[max_ind]))\n",
    "            all_curves.append(normed_curve)\n",
    "    final_curve = np.max(all_curves, axis=0) + thermal_diffuse\n",
    "    plt.plot(x, final_curve, c='C0', lw=4)\n",
    "\n",
    "    # Some fine-tuned settings for visual appeal\n",
    "    for side in ['top', 'right']:\n",
    "        ax.spines[side].set_visible(False)\n",
    "    for side in ['left', 'bottom']:\n",
    "        ax.spines[side].set_linewidth(2)\n",
    "    ax.set_xlim(xmin, xmax)\n",
    "    ax.set_ylim(0, 1.05*ax.get_ylim()[1])\n",
    "    ax.tick_params(left=False, labelleft=False, direction='in', length=10, width=2)\n",
    "    ax.set_xlabel(r'$2\\theta\\ (^{\\circ})$')\n",
    "    ax.set_ylabel('Intensity (a.u.)')\n",
    "    plt.show()"
   ]
  },
  {
   "cell_type": "markdown",
   "metadata": {},
   "source": [
    "We create each slider individually for readability and customization."
   ]
  },
  {
   "cell_type": "code",
   "execution_count": 3,
   "metadata": {},
   "outputs": [],
   "source": [
    "b = Button(description='A button', layout=Layout(width='400px', height='40px'))\n",
    "\n",
    "a_widget = FloatSlider(value=0.352, min=0.3, max=0.4, step=0.001, \\\n",
    "                       description='Lattice constant (nm)', readout_format='.3f', \\\n",
    "                       style={'description_width':'150px'}, layout=b.layout)\n",
    "\n",
    "w_widget = FloatSlider(value=0.154, min=0.13, max=0.16, step=0.001, \\\n",
    "                       description='X-ray wavelength (nm)', readout_format='.3f', \\\n",
    "                       style={'description_width':'150px'}, layout=b.layout)\n",
    "\n",
    "c_widget = RadioButtons(options=['FCC', 'BCC'], description='Crystal structure',\\\n",
    "                        style={'description_width':'150px'}, layout=b.layout)\n",
    "\n",
    "t_widget = FloatLogSlider(value=10, base=10, min=0, max=3, step=0.1, \\\n",
    "                          description='Crystallite size (nm)',  readout_format='d', \n",
    "                          style={'description_width':'150px'}, layout=b.layout)\n",
    "\n",
    "T_widget = IntSlider(value=298, min=0, max=1000, step=1, \\\n",
    "                     description='Temperature (K)', readout_format='d', \\\n",
    "                     style={'description_width':'150px'}, layout=b.layout)"
   ]
  },
  {
   "cell_type": "markdown",
   "metadata": {},
   "source": [
    "And the final touch."
   ]
  },
  {
   "cell_type": "code",
   "execution_count": 4,
   "metadata": {},
   "outputs": [
    {
     "data": {
      "application/vnd.jupyter.widget-view+json": {
       "model_id": "3d02114597ea4c4da9e5b9e61a490474",
       "version_major": 2,
       "version_minor": 0
      },
      "text/plain": [
       "interactive(children=(FloatSlider(value=0.352, description='Lattice constant (nm)', layout=Layout(height='40px…"
      ]
     },
     "metadata": {},
     "output_type": "display_data"
    }
   ],
   "source": [
    "interact_manual.opts['manual_name'] = 'Generate plot'\n",
    "interact_manual(plot_XRD, a=a_widget, wavelength=w_widget, cell_type=c_widget, \n",
    "                          thickness=t_widget, T=T_widget, K=fixed(0.94));"
   ]
  }
 ],
 "metadata": {
  "kernelspec": {
   "display_name": "Python 3",
   "language": "python",
   "name": "python3"
  },
  "language_info": {
   "codemirror_mode": {
    "name": "ipython",
    "version": 3
   },
   "file_extension": ".py",
   "mimetype": "text/x-python",
   "name": "python",
   "nbconvert_exporter": "python",
   "pygments_lexer": "ipython3",
   "version": "3.7.3"
  }
 },
 "nbformat": 4,
 "nbformat_minor": 4
}
